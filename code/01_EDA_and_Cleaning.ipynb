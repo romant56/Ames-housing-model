{
 "cells": [
  {
   "cell_type": "code",
   "execution_count": 1,
   "id": "e13bb846-e493-4780-9d60-6a1d12b0d833",
   "metadata": {},
   "outputs": [],
   "source": [
    "import pandas as pd\n",
    "import numpy as np\n",
    "import seaborn as sns\n",
    "import matplotlib.pyplot as plt"
   ]
  },
  {
   "cell_type": "code",
   "execution_count": 2,
   "id": "549d07cf-e7bb-4f40-a9da-a4159aaa83ae",
   "metadata": {},
   "outputs": [],
   "source": [
    "df = pd.read_csv('../data/train.csv')\n",
    "df_test = pd.read_csv('../data/test.csv')"
   ]
  },
  {
   "cell_type": "code",
   "execution_count": 3,
   "id": "8cb464f9-40eb-4b35-ac1c-7e4d8d998560",
   "metadata": {},
   "outputs": [
    {
     "data": {
      "text/html": [
       "<div>\n",
       "<style scoped>\n",
       "    .dataframe tbody tr th:only-of-type {\n",
       "        vertical-align: middle;\n",
       "    }\n",
       "\n",
       "    .dataframe tbody tr th {\n",
       "        vertical-align: top;\n",
       "    }\n",
       "\n",
       "    .dataframe thead th {\n",
       "        text-align: right;\n",
       "    }\n",
       "</style>\n",
       "<table border=\"1\" class=\"dataframe\">\n",
       "  <thead>\n",
       "    <tr style=\"text-align: right;\">\n",
       "      <th></th>\n",
       "      <th>Id</th>\n",
       "      <th>PID</th>\n",
       "      <th>MS SubClass</th>\n",
       "      <th>MS Zoning</th>\n",
       "      <th>Lot Frontage</th>\n",
       "      <th>Lot Area</th>\n",
       "      <th>Street</th>\n",
       "      <th>Alley</th>\n",
       "      <th>Lot Shape</th>\n",
       "      <th>Land Contour</th>\n",
       "      <th>...</th>\n",
       "      <th>Screen Porch</th>\n",
       "      <th>Pool Area</th>\n",
       "      <th>Pool QC</th>\n",
       "      <th>Fence</th>\n",
       "      <th>Misc Feature</th>\n",
       "      <th>Misc Val</th>\n",
       "      <th>Mo Sold</th>\n",
       "      <th>Yr Sold</th>\n",
       "      <th>Sale Type</th>\n",
       "      <th>SalePrice</th>\n",
       "    </tr>\n",
       "  </thead>\n",
       "  <tbody>\n",
       "    <tr>\n",
       "      <th>0</th>\n",
       "      <td>109</td>\n",
       "      <td>533352170</td>\n",
       "      <td>60</td>\n",
       "      <td>RL</td>\n",
       "      <td>NaN</td>\n",
       "      <td>13517</td>\n",
       "      <td>Pave</td>\n",
       "      <td>NaN</td>\n",
       "      <td>IR1</td>\n",
       "      <td>Lvl</td>\n",
       "      <td>...</td>\n",
       "      <td>0</td>\n",
       "      <td>0</td>\n",
       "      <td>NaN</td>\n",
       "      <td>NaN</td>\n",
       "      <td>NaN</td>\n",
       "      <td>0</td>\n",
       "      <td>3</td>\n",
       "      <td>2010</td>\n",
       "      <td>WD</td>\n",
       "      <td>130500</td>\n",
       "    </tr>\n",
       "    <tr>\n",
       "      <th>1</th>\n",
       "      <td>544</td>\n",
       "      <td>531379050</td>\n",
       "      <td>60</td>\n",
       "      <td>RL</td>\n",
       "      <td>43.0</td>\n",
       "      <td>11492</td>\n",
       "      <td>Pave</td>\n",
       "      <td>NaN</td>\n",
       "      <td>IR1</td>\n",
       "      <td>Lvl</td>\n",
       "      <td>...</td>\n",
       "      <td>0</td>\n",
       "      <td>0</td>\n",
       "      <td>NaN</td>\n",
       "      <td>NaN</td>\n",
       "      <td>NaN</td>\n",
       "      <td>0</td>\n",
       "      <td>4</td>\n",
       "      <td>2009</td>\n",
       "      <td>WD</td>\n",
       "      <td>220000</td>\n",
       "    </tr>\n",
       "    <tr>\n",
       "      <th>2</th>\n",
       "      <td>153</td>\n",
       "      <td>535304180</td>\n",
       "      <td>20</td>\n",
       "      <td>RL</td>\n",
       "      <td>68.0</td>\n",
       "      <td>7922</td>\n",
       "      <td>Pave</td>\n",
       "      <td>NaN</td>\n",
       "      <td>Reg</td>\n",
       "      <td>Lvl</td>\n",
       "      <td>...</td>\n",
       "      <td>0</td>\n",
       "      <td>0</td>\n",
       "      <td>NaN</td>\n",
       "      <td>NaN</td>\n",
       "      <td>NaN</td>\n",
       "      <td>0</td>\n",
       "      <td>1</td>\n",
       "      <td>2010</td>\n",
       "      <td>WD</td>\n",
       "      <td>109000</td>\n",
       "    </tr>\n",
       "    <tr>\n",
       "      <th>3</th>\n",
       "      <td>318</td>\n",
       "      <td>916386060</td>\n",
       "      <td>60</td>\n",
       "      <td>RL</td>\n",
       "      <td>73.0</td>\n",
       "      <td>9802</td>\n",
       "      <td>Pave</td>\n",
       "      <td>NaN</td>\n",
       "      <td>Reg</td>\n",
       "      <td>Lvl</td>\n",
       "      <td>...</td>\n",
       "      <td>0</td>\n",
       "      <td>0</td>\n",
       "      <td>NaN</td>\n",
       "      <td>NaN</td>\n",
       "      <td>NaN</td>\n",
       "      <td>0</td>\n",
       "      <td>4</td>\n",
       "      <td>2010</td>\n",
       "      <td>WD</td>\n",
       "      <td>174000</td>\n",
       "    </tr>\n",
       "    <tr>\n",
       "      <th>4</th>\n",
       "      <td>255</td>\n",
       "      <td>906425045</td>\n",
       "      <td>50</td>\n",
       "      <td>RL</td>\n",
       "      <td>82.0</td>\n",
       "      <td>14235</td>\n",
       "      <td>Pave</td>\n",
       "      <td>NaN</td>\n",
       "      <td>IR1</td>\n",
       "      <td>Lvl</td>\n",
       "      <td>...</td>\n",
       "      <td>0</td>\n",
       "      <td>0</td>\n",
       "      <td>NaN</td>\n",
       "      <td>NaN</td>\n",
       "      <td>NaN</td>\n",
       "      <td>0</td>\n",
       "      <td>3</td>\n",
       "      <td>2010</td>\n",
       "      <td>WD</td>\n",
       "      <td>138500</td>\n",
       "    </tr>\n",
       "  </tbody>\n",
       "</table>\n",
       "<p>5 rows × 81 columns</p>\n",
       "</div>"
      ],
      "text/plain": [
       "    Id        PID  MS SubClass MS Zoning  Lot Frontage  Lot Area Street Alley  \\\n",
       "0  109  533352170           60        RL           NaN     13517   Pave   NaN   \n",
       "1  544  531379050           60        RL          43.0     11492   Pave   NaN   \n",
       "2  153  535304180           20        RL          68.0      7922   Pave   NaN   \n",
       "3  318  916386060           60        RL          73.0      9802   Pave   NaN   \n",
       "4  255  906425045           50        RL          82.0     14235   Pave   NaN   \n",
       "\n",
       "  Lot Shape Land Contour  ... Screen Porch Pool Area Pool QC Fence  \\\n",
       "0       IR1          Lvl  ...            0         0     NaN   NaN   \n",
       "1       IR1          Lvl  ...            0         0     NaN   NaN   \n",
       "2       Reg          Lvl  ...            0         0     NaN   NaN   \n",
       "3       Reg          Lvl  ...            0         0     NaN   NaN   \n",
       "4       IR1          Lvl  ...            0         0     NaN   NaN   \n",
       "\n",
       "  Misc Feature Misc Val Mo Sold Yr Sold  Sale Type  SalePrice  \n",
       "0          NaN        0       3    2010        WD      130500  \n",
       "1          NaN        0       4    2009        WD      220000  \n",
       "2          NaN        0       1    2010        WD      109000  \n",
       "3          NaN        0       4    2010        WD      174000  \n",
       "4          NaN        0       3    2010        WD      138500  \n",
       "\n",
       "[5 rows x 81 columns]"
      ]
     },
     "execution_count": 3,
     "metadata": {},
     "output_type": "execute_result"
    }
   ],
   "source": [
    "df.head()"
   ]
  },
  {
   "cell_type": "code",
   "execution_count": 4,
   "id": "b810f3d0-aa7d-4957-928b-99a3fc556cab",
   "metadata": {},
   "outputs": [
    {
     "data": {
      "text/plain": [
       "(2051, 81)"
      ]
     },
     "execution_count": 4,
     "metadata": {},
     "output_type": "execute_result"
    }
   ],
   "source": [
    "df.shape"
   ]
  },
  {
   "cell_type": "code",
   "execution_count": 5,
   "id": "f3c52803-eef4-46bc-831b-4eefebee8674",
   "metadata": {},
   "outputs": [
    {
     "data": {
      "text/plain": [
       "Id                   0\n",
       "PID                  0\n",
       "MS SubClass          0\n",
       "MS Zoning            0\n",
       "Lot Frontage       330\n",
       "Lot Area             0\n",
       "Street               0\n",
       "Alley             1911\n",
       "Lot Shape            0\n",
       "Land Contour         0\n",
       "Utilities            0\n",
       "Lot Config           0\n",
       "Land Slope           0\n",
       "Neighborhood         0\n",
       "Condition 1          0\n",
       "Condition 2          0\n",
       "Bldg Type            0\n",
       "House Style          0\n",
       "Overall Qual         0\n",
       "Overall Cond         0\n",
       "Year Built           0\n",
       "Year Remod/Add       0\n",
       "Roof Style           0\n",
       "Roof Matl            0\n",
       "Exterior 1st         0\n",
       "Exterior 2nd         0\n",
       "Mas Vnr Type        22\n",
       "Mas Vnr Area        22\n",
       "Exter Qual           0\n",
       "Exter Cond           0\n",
       "Foundation           0\n",
       "Bsmt Qual           55\n",
       "Bsmt Cond           55\n",
       "Bsmt Exposure       58\n",
       "BsmtFin Type 1      55\n",
       "BsmtFin SF 1         1\n",
       "BsmtFin Type 2      56\n",
       "BsmtFin SF 2         1\n",
       "Bsmt Unf SF          1\n",
       "Total Bsmt SF        1\n",
       "Heating              0\n",
       "Heating QC           0\n",
       "dtype: int64"
      ]
     },
     "execution_count": 5,
     "metadata": {},
     "output_type": "execute_result"
    }
   ],
   "source": [
    "df.isnull().sum().head(42)"
   ]
  },
  {
   "cell_type": "code",
   "execution_count": 6,
   "id": "b40140b1-737c-408d-a58b-5b6b60ec1f0b",
   "metadata": {},
   "outputs": [
    {
     "data": {
      "text/plain": [
       "Heating QC            0\n",
       "Central Air           0\n",
       "Electrical            0\n",
       "1st Flr SF            0\n",
       "2nd Flr SF            0\n",
       "Low Qual Fin SF       0\n",
       "Gr Liv Area           0\n",
       "Bsmt Full Bath        2\n",
       "Bsmt Half Bath        2\n",
       "Full Bath             0\n",
       "Half Bath             0\n",
       "Bedroom AbvGr         0\n",
       "Kitchen AbvGr         0\n",
       "Kitchen Qual          0\n",
       "TotRms AbvGrd         0\n",
       "Functional            0\n",
       "Fireplaces            0\n",
       "Fireplace Qu       1000\n",
       "Garage Type         113\n",
       "Garage Yr Blt       114\n",
       "Garage Finish       114\n",
       "Garage Cars           1\n",
       "Garage Area           1\n",
       "Garage Qual         114\n",
       "Garage Cond         114\n",
       "Paved Drive           0\n",
       "Wood Deck SF          0\n",
       "Open Porch SF         0\n",
       "Enclosed Porch        0\n",
       "3Ssn Porch            0\n",
       "Screen Porch          0\n",
       "Pool Area             0\n",
       "Pool QC            2042\n",
       "Fence              1651\n",
       "Misc Feature       1986\n",
       "Misc Val              0\n",
       "Mo Sold               0\n",
       "Yr Sold               0\n",
       "Sale Type             0\n",
       "SalePrice             0\n",
       "dtype: int64"
      ]
     },
     "execution_count": 6,
     "metadata": {},
     "output_type": "execute_result"
    }
   ],
   "source": [
    "df.isnull().sum().tail(40)"
   ]
  },
  {
   "cell_type": "code",
   "execution_count": 7,
   "id": "0709f588-cfba-48d0-87af-33955eefba23",
   "metadata": {},
   "outputs": [
    {
     "data": {
      "text/plain": [
       "Id                  int64\n",
       "PID                 int64\n",
       "MS SubClass         int64\n",
       "MS Zoning          object\n",
       "Lot Frontage      float64\n",
       "Lot Area            int64\n",
       "Street             object\n",
       "Alley              object\n",
       "Lot Shape          object\n",
       "Land Contour       object\n",
       "Utilities          object\n",
       "Lot Config         object\n",
       "Land Slope         object\n",
       "Neighborhood       object\n",
       "Condition 1        object\n",
       "Condition 2        object\n",
       "Bldg Type          object\n",
       "House Style        object\n",
       "Overall Qual        int64\n",
       "Overall Cond        int64\n",
       "Year Built          int64\n",
       "Year Remod/Add      int64\n",
       "Roof Style         object\n",
       "Roof Matl          object\n",
       "Exterior 1st       object\n",
       "Exterior 2nd       object\n",
       "Mas Vnr Type       object\n",
       "Mas Vnr Area      float64\n",
       "Exter Qual         object\n",
       "Exter Cond         object\n",
       "Foundation         object\n",
       "Bsmt Qual          object\n",
       "Bsmt Cond          object\n",
       "Bsmt Exposure      object\n",
       "BsmtFin Type 1     object\n",
       "BsmtFin SF 1      float64\n",
       "BsmtFin Type 2     object\n",
       "BsmtFin SF 2      float64\n",
       "Bsmt Unf SF       float64\n",
       "Total Bsmt SF     float64\n",
       "Heating            object\n",
       "Heating QC         object\n",
       "Central Air        object\n",
       "Electrical         object\n",
       "1st Flr SF          int64\n",
       "dtype: object"
      ]
     },
     "execution_count": 7,
     "metadata": {},
     "output_type": "execute_result"
    }
   ],
   "source": [
    "df.dtypes.head(45)"
   ]
  },
  {
   "cell_type": "code",
   "execution_count": 8,
   "id": "2bdccdeb-30e1-4006-9a8d-22cb846540b8",
   "metadata": {},
   "outputs": [],
   "source": [
    "# remove two outliers found in very large homes\n",
    "df = df[df['Gr Liv Area'] < 4000]"
   ]
  },
  {
   "cell_type": "code",
   "execution_count": 9,
   "id": "18b11c12-0cf8-4df7-8cb7-30876dd7c9b6",
   "metadata": {},
   "outputs": [],
   "source": [
    "#remove nulls from two columns\n",
    "df.dropna(subset=['BsmtFin SF 1', 'Total Bsmt SF', 'Garage Cars'], inplace=True)"
   ]
  },
  {
   "cell_type": "code",
   "execution_count": 10,
   "id": "1e932a05-1c47-41f4-b559-52d648379363",
   "metadata": {},
   "outputs": [
    {
     "data": {
      "image/png": "[encoded data removed]",
      "text/plain": [
       "<Figure size 432x288 with 1 Axes>"
      ]
     },
     "metadata": {
      "needs_background": "light"
     },
     "output_type": "display_data"
    }
   ],
   "source": [
    "plt.scatter(df['Gr Liv Area'], df['SalePrice']);"
   ]
  },
  {
   "cell_type": "code",
   "execution_count": 11,
   "id": "d041d76a-85f5-48a2-9e2a-f54eb9be41a1",
   "metadata": {},
   "outputs": [
    {
     "data": {
      "image/png": "[encoded data removed]",
      "text/plain": [
       "<Figure size 432x288 with 1 Axes>"
      ]
     },
     "metadata": {
      "needs_background": "light"
     },
     "output_type": "display_data"
    }
   ],
   "source": [
    "plt.scatter(df['Overall Qual'], df['SalePrice']);"
   ]
  },
  {
   "cell_type": "code",
   "execution_count": 12,
   "id": "cab6abf9-decc-4ea9-b7db-a73111364932",
   "metadata": {},
   "outputs": [],
   "source": [
    "df['Central Air'] = df['Central Air'].map({'Y': 1, 'N': 0})"
   ]
  },
  {
   "cell_type": "code",
   "execution_count": 13,
   "id": "94139339-52dc-41a7-bc0c-1c14efa96eca",
   "metadata": {
    "tags": []
   },
   "outputs": [
    {
     "data": {
      "image/png": "[encoded data removed]",
      "text/plain": [
       "<Figure size 360x1080 with 2 Axes>"
      ]
     },
     "metadata": {
      "needs_background": "light"
     },
     "output_type": "display_data"
    }
   ],
   "source": [
    "# taken almost directly from Katie Sylvia's lecture\n",
    "\n",
    "plt.figure(figsize=(5,15))\n",
    "sns.heatmap(df.corr()[['SalePrice']].sort_values(by='SalePrice', ascending=False),\n",
    "            annot=True,\n",
    "            vmin=-1,\n",
    "            vmax=1);"
   ]
  },
  {
   "cell_type": "code",
   "execution_count": 14,
   "id": "c9be03db-7fc9-4e13-b487-9af0b2fac8cf",
   "metadata": {},
   "outputs": [],
   "source": [
    "#df.to_csv('../data/roman_df.csv', index=False)"
   ]
  },
  {
   "cell_type": "code",
   "execution_count": 15,
   "id": "cde3f430-34b7-495d-ae9c-c2c5f55f3aa1",
   "metadata": {},
   "outputs": [
    {
     "data": {
      "text/plain": [
       "Bldg Type\n",
       "1Fam      1513.879127\n",
       "2fmCon    1462.456522\n",
       "Duplex    1607.093333\n",
       "Twnhs     1229.536232\n",
       "TwnhsE    1375.670807\n",
       "Name: Gr Liv Area, dtype: float64"
      ]
     },
     "execution_count": 15,
     "metadata": {},
     "output_type": "execute_result"
    }
   ],
   "source": [
    "df.groupby(['Bldg Type']).mean()['Gr Liv Area']"
   ]
  },
  {
   "cell_type": "code",
   "execution_count": 16,
   "id": "0bd39396-e150-4504-8bbf-ab4ce0b03fbf",
   "metadata": {},
   "outputs": [],
   "source": [
    "#df_test['SalePrice'] = 0"
   ]
  },
  {
   "cell_type": "code",
   "execution_count": 17,
   "id": "df40c1fa-bb5e-4431-a1a5-66da9c93bfc1",
   "metadata": {},
   "outputs": [],
   "source": [
    "newdf = pd.concat([df, df_test])"
   ]
  },
  {
   "cell_type": "code",
   "execution_count": 18,
   "id": "6110e10c-6a59-49cf-bcac-95bc03f1059f",
   "metadata": {},
   "outputs": [],
   "source": [
    "newdf = pd.get_dummies(newdf, columns=['Bldg Type'], drop_first=True)"
   ]
  },
  {
   "cell_type": "code",
   "execution_count": 19,
   "id": "bc47f94e-a1f7-42a2-9cf1-816d559c4d3a",
   "metadata": {},
   "outputs": [],
   "source": [
    "df = newdf[:2047]"
   ]
  },
  {
   "cell_type": "code",
   "execution_count": 20,
   "id": "c9115ca4-db5d-406e-9783-48e0d090c7fe",
   "metadata": {},
   "outputs": [
    {
     "name": "stderr",
     "output_type": "stream",
     "text": [
      "C:\\Users\\roman\\AppData\\Local\\Temp\\ipykernel_14016\\2786479985.py:2: SettingWithCopyWarning: \n",
      "A value is trying to be set on a copy of a slice from a DataFrame\n",
      "\n",
      "See the caveats in the documentation: https://pandas.pydata.org/pandas-docs/stable/user_guide/indexing.html#returning-a-view-versus-a-copy\n",
      "  df_test.drop(columns=['SalePrice'], inplace=True)\n"
     ]
    }
   ],
   "source": [
    "df_test = newdf[2047:]\n",
    "df_test.drop(columns=['SalePrice'], inplace=True)"
   ]
  },
  {
   "cell_type": "code",
   "execution_count": 21,
   "id": "e80e1f3d-b0a2-438d-a0c4-5e6d56b79886",
   "metadata": {},
   "outputs": [],
   "source": [
    "df.to_csv('../data/roman_df.csv', index=False)\n",
    "df_test.to_csv('../data/roman_df_test.csv', index=False)"
   ]
  },
  {
   "cell_type": "code",
   "execution_count": 24,
   "id": "769bd5e5-90a8-417d-b733-c97e53d73f69",
   "metadata": {},
   "outputs": [
    {
     "data": {
      "text/plain": [
       "Id                    0\n",
       "PID                   0\n",
       "MS SubClass           0\n",
       "MS Zoning             0\n",
       "Lot Frontage        330\n",
       "Lot Area              0\n",
       "Street                0\n",
       "Alley              1907\n",
       "Lot Shape             0\n",
       "Land Contour          0\n",
       "Utilities             0\n",
       "Lot Config            0\n",
       "Land Slope            0\n",
       "Neighborhood          0\n",
       "Condition 1           0\n",
       "Condition 2           0\n",
       "House Style           0\n",
       "Overall Qual          0\n",
       "Overall Cond          0\n",
       "Year Built            0\n",
       "Year Remod/Add        0\n",
       "Roof Style            0\n",
       "Roof Matl             0\n",
       "Exterior 1st          0\n",
       "Exterior 2nd          0\n",
       "Mas Vnr Type         22\n",
       "Mas Vnr Area         22\n",
       "Exter Qual            0\n",
       "Exter Cond            0\n",
       "Foundation            0\n",
       "Bsmt Qual            54\n",
       "Bsmt Cond            54\n",
       "Bsmt Exposure        57\n",
       "BsmtFin Type 1       54\n",
       "BsmtFin SF 1          0\n",
       "BsmtFin Type 2       55\n",
       "BsmtFin SF 2          0\n",
       "Bsmt Unf SF           0\n",
       "Total Bsmt SF         0\n",
       "Heating               0\n",
       "Heating QC            0\n",
       "Central Air           0\n",
       "Electrical            0\n",
       "1st Flr SF            0\n",
       "2nd Flr SF            0\n",
       "Low Qual Fin SF       0\n",
       "Gr Liv Area           0\n",
       "Bsmt Full Bath        1\n",
       "Bsmt Half Bath        1\n",
       "Full Bath             0\n",
       "Half Bath             0\n",
       "Bedroom AbvGr         0\n",
       "Kitchen AbvGr         0\n",
       "Kitchen Qual          0\n",
       "TotRms AbvGrd         0\n",
       "Functional            0\n",
       "Fireplaces            0\n",
       "Fireplace Qu        998\n",
       "Garage Type         113\n",
       "Garage Yr Blt       113\n",
       "dtype: int64"
      ]
     },
     "execution_count": 24,
     "metadata": {},
     "output_type": "execute_result"
    }
   ],
   "source": [
    "df.isnull().sum().head(60)"
   ]
  },
  {
   "cell_type": "code",
   "execution_count": null,
   "id": "1119a906-7178-43db-a7ce-42ee56e378ab",
   "metadata": {},
   "outputs": [],
   "source": []
  }
 ],
 "metadata": {
  "kernelspec": {
   "display_name": "Python [conda env:dsi]",
   "language": "python",
   "name": "conda-env-dsi-py"
  },
  "language_info": {
   "codemirror_mode": {
    "name": "ipython",
    "version": 3
   },
   "file_extension": ".py",
   "mimetype": "text/x-python",
   "name": "python",
   "nbconvert_exporter": "python",
   "pygments_lexer": "ipython3",
   "version": "3.8.13"
  }
 },
 "nbformat": 4,
 "nbformat_minor": 5
}
