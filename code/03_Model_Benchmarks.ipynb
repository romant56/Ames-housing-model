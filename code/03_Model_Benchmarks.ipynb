{
 "cells": [
  {
   "cell_type": "code",
   "execution_count": 1,
   "id": "98a789ae-ae02-485b-89d6-7b31c19abe44",
   "metadata": {},
   "outputs": [],
   "source": [
    "import pandas as pd\n",
    "import numpy as np\n",
    "import seaborn as sns\n",
    "import matplotlib.pyplot as plt\n",
    "\n",
    "from sklearn.model_selection import train_test_split, cross_val_score\n",
    "from sklearn.linear_model import LinearRegression\n",
    "from sklearn.metrics import r2_score\n",
    "from sklearn.preprocessing import PolynomialFeatures, StandardScaler"
   ]
  },
  {
   "cell_type": "markdown",
   "id": "1f0240f1-d574-4b3e-baba-6b7b3c8a624e",
   "metadata": {},
   "source": [
    "#### Submission 1"
   ]
  },
  {
   "cell_type": "code",
   "execution_count": 2,
   "id": "2625b73f-8c93-4500-b6c3-b7617bf5fcc4",
   "metadata": {},
   "outputs": [],
   "source": [
    "df_train = pd.read_csv('../data/roman_df.csv')\n",
    "df_test = pd.read_csv('../data/test.csv')\n",
    "lr = LinearRegression()"
   ]
  },
  {
   "cell_type": "code",
   "execution_count": 3,
   "id": "6ca1e523-3933-45a7-b298-97a44183a111",
   "metadata": {},
   "outputs": [],
   "source": [
    "X = df_train[['Overall Qual', 'Gr Liv Area']]\n",
    "y = df_train['SalePrice']"
   ]
  },
  {
   "cell_type": "code",
   "execution_count": 4,
   "id": "3562e358-7758-4094-b483-d9869a504b1d",
   "metadata": {},
   "outputs": [],
   "source": [
    "X_train, X_test, y_train, y_test = train_test_split(X, y)"
   ]
  },
  {
   "cell_type": "code",
   "execution_count": 5,
   "id": "c8c89cff-49e6-49d2-941d-f9a11861b74f",
   "metadata": {},
   "outputs": [
    {
     "data": {
      "text/plain": [
       "LinearRegression()"
      ]
     },
     "execution_count": 5,
     "metadata": {},
     "output_type": "execute_result"
    }
   ],
   "source": [
    "lr.fit(X_train, y_train)"
   ]
  },
  {
   "cell_type": "code",
   "execution_count": 6,
   "id": "73e3ead5-d06d-45da-9e24-574e1a4e5f98",
   "metadata": {},
   "outputs": [
    {
     "data": {
      "text/plain": [
       "0.7465915107577785"
      ]
     },
     "execution_count": 6,
     "metadata": {},
     "output_type": "execute_result"
    }
   ],
   "source": [
    "lr.score(X_train, y_train)"
   ]
  },
  {
   "cell_type": "code",
   "execution_count": 7,
   "id": "8444af84-7960-4814-b81f-160a20bdf270",
   "metadata": {},
   "outputs": [
    {
     "data": {
      "text/plain": [
       "0.7556046278666285"
      ]
     },
     "execution_count": 7,
     "metadata": {},
     "output_type": "execute_result"
    }
   ],
   "source": [
    "lr.score(X_test, y_test)"
   ]
  },
  {
   "cell_type": "code",
   "execution_count": 8,
   "id": "c2a8cf7d-5e59-4742-88ff-f360162ff8a5",
   "metadata": {},
   "outputs": [],
   "source": [
    "preds = lr.predict(df_test[['Overall Qual', 'Gr Liv Area']])"
   ]
  },
  {
   "cell_type": "code",
   "execution_count": 9,
   "id": "83e64e39-eab3-4ce7-922d-9144fc58ff65",
   "metadata": {},
   "outputs": [],
   "source": [
    "df_test['SalePrice'] = preds"
   ]
  },
  {
   "cell_type": "code",
   "execution_count": 10,
   "id": "8e03a397-f949-4d15-83e8-651279b56380",
   "metadata": {},
   "outputs": [],
   "source": [
    "lr_submission = df_test[['Id', 'SalePrice']]"
   ]
  },
  {
   "cell_type": "code",
   "execution_count": 11,
   "id": "4912d8a8-bda3-4bbd-a256-ab3c111512b5",
   "metadata": {},
   "outputs": [],
   "source": [
    "lr_submission.set_index('Id', inplace=True)"
   ]
  },
  {
   "cell_type": "code",
   "execution_count": 12,
   "id": "51aca9da-68d7-45b1-acc7-c5748bff916c",
   "metadata": {},
   "outputs": [],
   "source": [
    "lr_submission.to_csv('../data/sub_1.csv')"
   ]
  },
  {
   "cell_type": "markdown",
   "id": "b4ac7422-9042-4678-8b20-603822905427",
   "metadata": {},
   "source": [
    "#### Submission 2"
   ]
  },
  {
   "cell_type": "code",
   "execution_count": 13,
   "id": "d4d221b2-b98e-4841-8e5b-dd7b9988dd93",
   "metadata": {},
   "outputs": [],
   "source": [
    "df_train = pd.read_csv('../data/roman_df.csv')\n",
    "df_test = pd.read_csv('../data/test.csv')\n",
    "lr = LinearRegression()"
   ]
  },
  {
   "cell_type": "code",
   "execution_count": 14,
   "id": "5e67a2c4-7844-4c94-8066-77559d75547c",
   "metadata": {},
   "outputs": [],
   "source": [
    "df_train['total_area'] = df_train['Gr Liv Area'] + df_train['Total Bsmt SF']\n",
    "df_test['total_area'] = df_test['Gr Liv Area'] + df_test['Total Bsmt SF']"
   ]
  },
  {
   "cell_type": "code",
   "execution_count": 15,
   "id": "5da19d61-a0aa-42d9-ae5c-948af2029bc5",
   "metadata": {},
   "outputs": [
    {
     "data": {
      "text/plain": [
       "0.7948261800054457"
      ]
     },
     "execution_count": 15,
     "metadata": {},
     "output_type": "execute_result"
    }
   ],
   "source": [
    "X = df_train[['Overall Qual', 'total_area']]\n",
    "y = df_train['SalePrice']\n",
    "X_train, X_test, y_train, y_test = train_test_split(X, y)\n",
    "lr.fit(X_train, y_train)\n",
    "lr.score(X_train, y_train)"
   ]
  },
  {
   "cell_type": "code",
   "execution_count": 16,
   "id": "9760e86e-ebf9-4da3-aec0-76f196ccb9ae",
   "metadata": {},
   "outputs": [
    {
     "data": {
      "text/plain": [
       "0.803409679649411"
      ]
     },
     "execution_count": 16,
     "metadata": {},
     "output_type": "execute_result"
    }
   ],
   "source": [
    "lr.score(X_test, y_test)"
   ]
  },
  {
   "cell_type": "code",
   "execution_count": 17,
   "id": "9aea2daf-f77b-42ef-ba08-1c06aba68fc2",
   "metadata": {},
   "outputs": [],
   "source": [
    "preds = lr.predict(df_test[['Overall Qual', 'total_area']])\n",
    "df_test['SalePrice'] = preds\n",
    "lr_submission = df_test[['Id', 'SalePrice']]\n",
    "lr_submission.set_index('Id', inplace=True)\n",
    "lr_submission.to_csv('../data/sub_2.csv')"
   ]
  },
  {
   "cell_type": "code",
   "execution_count": null,
   "id": "5be6b5db-1bee-43c3-96e2-2b8330e9de76",
   "metadata": {},
   "outputs": [],
   "source": []
  }
 ],
 "metadata": {
  "kernelspec": {
   "display_name": "Python [conda env:dsi]",
   "language": "python",
   "name": "conda-env-dsi-py"
  },
  "language_info": {
   "codemirror_mode": {
    "name": "ipython",
    "version": 3
   },
   "file_extension": ".py",
   "mimetype": "text/x-python",
   "name": "python",
   "nbconvert_exporter": "python",
   "pygments_lexer": "ipython3",
   "version": "3.8.13"
  }
 },
 "nbformat": 4,
 "nbformat_minor": 5
}
