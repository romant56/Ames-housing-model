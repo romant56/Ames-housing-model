{
 "cells": [
  {
   "cell_type": "code",
   "execution_count": 1,
   "id": "98a789ae-ae02-485b-89d6-7b31c19abe44",
   "metadata": {},
   "outputs": [],
   "source": [
    "import pandas as pd\n",
    "import numpy as np\n",
    "import seaborn as sns\n",
    "import matplotlib.pyplot as plt\n",
    "\n",
    "from sklearn.model_selection import train_test_split, cross_val_score\n",
    "from sklearn.linear_model import LinearRegression, RidgeCV, LassoCV\n",
    "from sklearn.metrics import r2_score\n",
    "from sklearn.preprocessing import PolynomialFeatures, StandardScaler"
   ]
  },
  {
   "cell_type": "markdown",
   "id": "1f0240f1-d574-4b3e-baba-6b7b3c8a624e",
   "metadata": {},
   "source": [
    "#### Submission 1"
   ]
  },
  {
   "cell_type": "code",
   "execution_count": 2,
   "id": "2625b73f-8c93-4500-b6c3-b7617bf5fcc4",
   "metadata": {},
   "outputs": [],
   "source": [
    "df_train = pd.read_csv('../data/roman_df.csv')\n",
    "df_test = pd.read_csv('../data/roman_df_test.csv')\n",
    "lr = LinearRegression()"
   ]
  },
  {
   "cell_type": "code",
   "execution_count": 3,
   "id": "6ca1e523-3933-45a7-b298-97a44183a111",
   "metadata": {},
   "outputs": [],
   "source": [
    "X = df_train[['Overall Qual', 'Gr Liv Area']]\n",
    "y = df_train['SalePrice']"
   ]
  },
  {
   "cell_type": "code",
   "execution_count": 4,
   "id": "3562e358-7758-4094-b483-d9869a504b1d",
   "metadata": {},
   "outputs": [],
   "source": [
    "X_train, X_test, y_train, y_test = train_test_split(X, y)"
   ]
  },
  {
   "cell_type": "code",
   "execution_count": 5,
   "id": "c8c89cff-49e6-49d2-941d-f9a11861b74f",
   "metadata": {},
   "outputs": [
    {
     "data": {
      "text/plain": [
       "LinearRegression()"
      ]
     },
     "execution_count": 5,
     "metadata": {},
     "output_type": "execute_result"
    }
   ],
   "source": [
    "lr.fit(X_train, y_train)"
   ]
  },
  {
   "cell_type": "code",
   "execution_count": 6,
   "id": "73e3ead5-d06d-45da-9e24-574e1a4e5f98",
   "metadata": {},
   "outputs": [
    {
     "data": {
      "text/plain": [
       "0.7630773279547887"
      ]
     },
     "execution_count": 6,
     "metadata": {},
     "output_type": "execute_result"
    }
   ],
   "source": [
    "lr.score(X_train, y_train)"
   ]
  },
  {
   "cell_type": "code",
   "execution_count": 7,
   "id": "8444af84-7960-4814-b81f-160a20bdf270",
   "metadata": {},
   "outputs": [
    {
     "data": {
      "text/plain": [
       "0.7076116494890882"
      ]
     },
     "execution_count": 7,
     "metadata": {},
     "output_type": "execute_result"
    }
   ],
   "source": [
    "lr.score(X_test, y_test)"
   ]
  },
  {
   "cell_type": "code",
   "execution_count": 8,
   "id": "c2a8cf7d-5e59-4742-88ff-f360162ff8a5",
   "metadata": {},
   "outputs": [],
   "source": [
    "preds = lr.predict(df_test[['Overall Qual', 'Gr Liv Area']])"
   ]
  },
  {
   "cell_type": "code",
   "execution_count": 9,
   "id": "83e64e39-eab3-4ce7-922d-9144fc58ff65",
   "metadata": {},
   "outputs": [],
   "source": [
    "df_test['SalePrice'] = preds"
   ]
  },
  {
   "cell_type": "code",
   "execution_count": 10,
   "id": "8e03a397-f949-4d15-83e8-651279b56380",
   "metadata": {},
   "outputs": [],
   "source": [
    "lr_submission = df_test[['Id', 'SalePrice']]"
   ]
  },
  {
   "cell_type": "code",
   "execution_count": 11,
   "id": "4912d8a8-bda3-4bbd-a256-ab3c111512b5",
   "metadata": {},
   "outputs": [],
   "source": [
    "lr_submission.set_index('Id', inplace=True)"
   ]
  },
  {
   "cell_type": "code",
   "execution_count": 12,
   "id": "51aca9da-68d7-45b1-acc7-c5748bff916c",
   "metadata": {},
   "outputs": [],
   "source": [
    "lr_submission.to_csv('../data/sub_1.csv')"
   ]
  },
  {
   "cell_type": "markdown",
   "id": "b4ac7422-9042-4678-8b20-603822905427",
   "metadata": {},
   "source": [
    "#### Submission 2"
   ]
  },
  {
   "cell_type": "code",
   "execution_count": 13,
   "id": "d4d221b2-b98e-4841-8e5b-dd7b9988dd93",
   "metadata": {
    "tags": []
   },
   "outputs": [],
   "source": [
    "df_train = pd.read_csv('../data/roman_df.csv')\n",
    "df_test = pd.read_csv('../data/roman_df_test.csv')\n",
    "lr = LinearRegression()"
   ]
  },
  {
   "cell_type": "code",
   "execution_count": 14,
   "id": "5e67a2c4-7844-4c94-8066-77559d75547c",
   "metadata": {
    "tags": []
   },
   "outputs": [],
   "source": [
    "df_train['total_area'] = df_train['Gr Liv Area'] * df_train['Total Bsmt SF']\n",
    "df_test['total_area'] = df_test['Gr Liv Area'] * df_test['Total Bsmt SF']"
   ]
  },
  {
   "cell_type": "code",
   "execution_count": 15,
   "id": "5da19d61-a0aa-42d9-ae5c-948af2029bc5",
   "metadata": {},
   "outputs": [
    {
     "data": {
      "text/plain": [
       "0.8083633851264382"
      ]
     },
     "execution_count": 15,
     "metadata": {},
     "output_type": "execute_result"
    }
   ],
   "source": [
    "X = df_train[['Overall Qual', 'total_area']]\n",
    "y = df_train['SalePrice']\n",
    "X_train, X_test, y_train, y_test = train_test_split(X, y)\n",
    "lr.fit(X_train, y_train)\n",
    "lr.score(X_train, y_train)"
   ]
  },
  {
   "cell_type": "code",
   "execution_count": 16,
   "id": "9760e86e-ebf9-4da3-aec0-76f196ccb9ae",
   "metadata": {},
   "outputs": [
    {
     "data": {
      "text/plain": [
       "0.8122382898786129"
      ]
     },
     "execution_count": 16,
     "metadata": {},
     "output_type": "execute_result"
    }
   ],
   "source": [
    "lr.score(X_test, y_test)"
   ]
  },
  {
   "cell_type": "code",
   "execution_count": 17,
   "id": "9aea2daf-f77b-42ef-ba08-1c06aba68fc2",
   "metadata": {},
   "outputs": [],
   "source": [
    "preds = lr.predict(df_test[['Overall Qual', 'total_area']])\n",
    "df_test['SalePrice'] = preds\n",
    "lr_submission = df_test[['Id', 'SalePrice']]\n",
    "lr_submission.set_index('Id', inplace=True)\n",
    "lr_submission.to_csv('../data/sub_2.csv')"
   ]
  },
  {
   "cell_type": "markdown",
   "id": "5fd26dfb-7fdd-4dd6-9bf3-097b39aff543",
   "metadata": {},
   "source": [
    "#### Ridge"
   ]
  },
  {
   "cell_type": "code",
   "execution_count": 18,
   "id": "29d35ee0-3074-4b73-8a8b-55aca19c3a70",
   "metadata": {},
   "outputs": [],
   "source": [
    "df_train = pd.read_csv('../data/roman_df.csv')\n",
    "df_test = pd.read_csv('../data/roman_df_test.csv')"
   ]
  },
  {
   "cell_type": "code",
   "execution_count": 19,
   "id": "5b5564d1-c990-4417-8ea2-15febf853300",
   "metadata": {},
   "outputs": [],
   "source": [
    "X_train, X_test, y_train, y_test = train_test_split(X, y)\n",
    "sc = StandardScaler()\n",
    "Z_train = sc.fit_transform(X_train)\n",
    "Z_test = sc.transform(X_test)"
   ]
  },
  {
   "cell_type": "code",
   "execution_count": 20,
   "id": "d8d736bd-7170-4f7b-af8b-2a69f69fa416",
   "metadata": {},
   "outputs": [],
   "source": [
    "ridge_cv = RidgeCV(alphas=np.logspace(0, 5, 100))"
   ]
  },
  {
   "cell_type": "code",
   "execution_count": 21,
   "id": "67975038-9d37-40d8-b954-21f11f3183b1",
   "metadata": {},
   "outputs": [
    {
     "data": {
      "text/plain": [
       "RidgeCV(alphas=array([1.00000000e+00, 1.12332403e+00, 1.26185688e+00, 1.41747416e+00,\n",
       "       1.59228279e+00, 1.78864953e+00, 2.00923300e+00, 2.25701972e+00,\n",
       "       2.53536449e+00, 2.84803587e+00, 3.19926714e+00, 3.59381366e+00,\n",
       "       4.03701726e+00, 4.53487851e+00, 5.09413801e+00, 5.72236766e+00,\n",
       "       6.42807312e+00, 7.22080902e+00, 8.11130831e+00, 9.11162756e+00,\n",
       "       1.02353102e+01, 1.14975700e+0...\n",
       "       6.89261210e+03, 7.74263683e+03, 8.69749003e+03, 9.77009957e+03,\n",
       "       1.09749877e+04, 1.23284674e+04, 1.38488637e+04, 1.55567614e+04,\n",
       "       1.74752840e+04, 1.96304065e+04, 2.20513074e+04, 2.47707636e+04,\n",
       "       2.78255940e+04, 3.12571585e+04, 3.51119173e+04, 3.94420606e+04,\n",
       "       4.43062146e+04, 4.97702356e+04, 5.59081018e+04, 6.28029144e+04,\n",
       "       7.05480231e+04, 7.92482898e+04, 8.90215085e+04, 1.00000000e+05]))"
      ]
     },
     "execution_count": 21,
     "metadata": {},
     "output_type": "execute_result"
    }
   ],
   "source": [
    "ridge_cv.fit(Z_train, y_train)"
   ]
  },
  {
   "cell_type": "code",
   "execution_count": 22,
   "id": "cf9d6638-4375-4f04-826b-f37e75870b3d",
   "metadata": {},
   "outputs": [
    {
     "data": {
      "text/plain": [
       "7.220809018385464"
      ]
     },
     "execution_count": 22,
     "metadata": {},
     "output_type": "execute_result"
    }
   ],
   "source": [
    "ridge_cv.alpha_"
   ]
  },
  {
   "cell_type": "code",
   "execution_count": 23,
   "id": "5da5b2c1-02fd-4e18-95cc-18060f958ae0",
   "metadata": {},
   "outputs": [
    {
     "name": "stdout",
     "output_type": "stream",
     "text": [
      "0.802528829943782\n",
      "0.8289467097471821\n"
     ]
    }
   ],
   "source": [
    "print(ridge_cv.score(Z_train, y_train))\n",
    "print(ridge_cv.score(Z_test, y_test))"
   ]
  },
  {
   "cell_type": "markdown",
   "id": "d1d677cf-a973-4625-b8c9-747419864606",
   "metadata": {},
   "source": [
    "#### Submission 3: Lasso"
   ]
  },
  {
   "cell_type": "code",
   "execution_count": 24,
   "id": "7b8e3284-4a4f-4555-9e57-5207d762d1b5",
   "metadata": {},
   "outputs": [
    {
     "data": {
      "text/html": [
       "<div>\n",
       "<style scoped>\n",
       "    .dataframe tbody tr th:only-of-type {\n",
       "        vertical-align: middle;\n",
       "    }\n",
       "\n",
       "    .dataframe tbody tr th {\n",
       "        vertical-align: top;\n",
       "    }\n",
       "\n",
       "    .dataframe thead th {\n",
       "        text-align: right;\n",
       "    }\n",
       "</style>\n",
       "<table border=\"1\" class=\"dataframe\">\n",
       "  <thead>\n",
       "    <tr style=\"text-align: right;\">\n",
       "      <th></th>\n",
       "      <th>Id</th>\n",
       "      <th>PID</th>\n",
       "      <th>MS SubClass</th>\n",
       "      <th>MS Zoning</th>\n",
       "      <th>Lot Frontage</th>\n",
       "      <th>Lot Area</th>\n",
       "      <th>Street</th>\n",
       "      <th>Alley</th>\n",
       "      <th>Lot Shape</th>\n",
       "      <th>Land Contour</th>\n",
       "      <th>...</th>\n",
       "      <th>Misc Feature</th>\n",
       "      <th>Misc Val</th>\n",
       "      <th>Mo Sold</th>\n",
       "      <th>Yr Sold</th>\n",
       "      <th>Sale Type</th>\n",
       "      <th>SalePrice</th>\n",
       "      <th>Bldg Type_2fmCon</th>\n",
       "      <th>Bldg Type_Duplex</th>\n",
       "      <th>Bldg Type_Twnhs</th>\n",
       "      <th>Bldg Type_TwnhsE</th>\n",
       "    </tr>\n",
       "  </thead>\n",
       "  <tbody>\n",
       "    <tr>\n",
       "      <th>0</th>\n",
       "      <td>109</td>\n",
       "      <td>533352170</td>\n",
       "      <td>60</td>\n",
       "      <td>RL</td>\n",
       "      <td>NaN</td>\n",
       "      <td>13517</td>\n",
       "      <td>Pave</td>\n",
       "      <td>NaN</td>\n",
       "      <td>IR1</td>\n",
       "      <td>Lvl</td>\n",
       "      <td>...</td>\n",
       "      <td>NaN</td>\n",
       "      <td>0</td>\n",
       "      <td>3</td>\n",
       "      <td>2010</td>\n",
       "      <td>WD</td>\n",
       "      <td>130500.0</td>\n",
       "      <td>0</td>\n",
       "      <td>0</td>\n",
       "      <td>0</td>\n",
       "      <td>0</td>\n",
       "    </tr>\n",
       "    <tr>\n",
       "      <th>1</th>\n",
       "      <td>544</td>\n",
       "      <td>531379050</td>\n",
       "      <td>60</td>\n",
       "      <td>RL</td>\n",
       "      <td>43.0</td>\n",
       "      <td>11492</td>\n",
       "      <td>Pave</td>\n",
       "      <td>NaN</td>\n",
       "      <td>IR1</td>\n",
       "      <td>Lvl</td>\n",
       "      <td>...</td>\n",
       "      <td>NaN</td>\n",
       "      <td>0</td>\n",
       "      <td>4</td>\n",
       "      <td>2009</td>\n",
       "      <td>WD</td>\n",
       "      <td>220000.0</td>\n",
       "      <td>0</td>\n",
       "      <td>0</td>\n",
       "      <td>0</td>\n",
       "      <td>0</td>\n",
       "    </tr>\n",
       "    <tr>\n",
       "      <th>2</th>\n",
       "      <td>153</td>\n",
       "      <td>535304180</td>\n",
       "      <td>20</td>\n",
       "      <td>RL</td>\n",
       "      <td>68.0</td>\n",
       "      <td>7922</td>\n",
       "      <td>Pave</td>\n",
       "      <td>NaN</td>\n",
       "      <td>Reg</td>\n",
       "      <td>Lvl</td>\n",
       "      <td>...</td>\n",
       "      <td>NaN</td>\n",
       "      <td>0</td>\n",
       "      <td>1</td>\n",
       "      <td>2010</td>\n",
       "      <td>WD</td>\n",
       "      <td>109000.0</td>\n",
       "      <td>0</td>\n",
       "      <td>0</td>\n",
       "      <td>0</td>\n",
       "      <td>0</td>\n",
       "    </tr>\n",
       "    <tr>\n",
       "      <th>3</th>\n",
       "      <td>318</td>\n",
       "      <td>916386060</td>\n",
       "      <td>60</td>\n",
       "      <td>RL</td>\n",
       "      <td>73.0</td>\n",
       "      <td>9802</td>\n",
       "      <td>Pave</td>\n",
       "      <td>NaN</td>\n",
       "      <td>Reg</td>\n",
       "      <td>Lvl</td>\n",
       "      <td>...</td>\n",
       "      <td>NaN</td>\n",
       "      <td>0</td>\n",
       "      <td>4</td>\n",
       "      <td>2010</td>\n",
       "      <td>WD</td>\n",
       "      <td>174000.0</td>\n",
       "      <td>0</td>\n",
       "      <td>0</td>\n",
       "      <td>0</td>\n",
       "      <td>0</td>\n",
       "    </tr>\n",
       "    <tr>\n",
       "      <th>4</th>\n",
       "      <td>255</td>\n",
       "      <td>906425045</td>\n",
       "      <td>50</td>\n",
       "      <td>RL</td>\n",
       "      <td>82.0</td>\n",
       "      <td>14235</td>\n",
       "      <td>Pave</td>\n",
       "      <td>NaN</td>\n",
       "      <td>IR1</td>\n",
       "      <td>Lvl</td>\n",
       "      <td>...</td>\n",
       "      <td>NaN</td>\n",
       "      <td>0</td>\n",
       "      <td>3</td>\n",
       "      <td>2010</td>\n",
       "      <td>WD</td>\n",
       "      <td>138500.0</td>\n",
       "      <td>0</td>\n",
       "      <td>0</td>\n",
       "      <td>0</td>\n",
       "      <td>0</td>\n",
       "    </tr>\n",
       "    <tr>\n",
       "      <th>...</th>\n",
       "      <td>...</td>\n",
       "      <td>...</td>\n",
       "      <td>...</td>\n",
       "      <td>...</td>\n",
       "      <td>...</td>\n",
       "      <td>...</td>\n",
       "      <td>...</td>\n",
       "      <td>...</td>\n",
       "      <td>...</td>\n",
       "      <td>...</td>\n",
       "      <td>...</td>\n",
       "      <td>...</td>\n",
       "      <td>...</td>\n",
       "      <td>...</td>\n",
       "      <td>...</td>\n",
       "      <td>...</td>\n",
       "      <td>...</td>\n",
       "      <td>...</td>\n",
       "      <td>...</td>\n",
       "      <td>...</td>\n",
       "      <td>...</td>\n",
       "    </tr>\n",
       "    <tr>\n",
       "      <th>2042</th>\n",
       "      <td>1587</td>\n",
       "      <td>921126030</td>\n",
       "      <td>20</td>\n",
       "      <td>RL</td>\n",
       "      <td>79.0</td>\n",
       "      <td>11449</td>\n",
       "      <td>Pave</td>\n",
       "      <td>NaN</td>\n",
       "      <td>IR1</td>\n",
       "      <td>HLS</td>\n",
       "      <td>...</td>\n",
       "      <td>NaN</td>\n",
       "      <td>0</td>\n",
       "      <td>1</td>\n",
       "      <td>2008</td>\n",
       "      <td>WD</td>\n",
       "      <td>298751.0</td>\n",
       "      <td>0</td>\n",
       "      <td>0</td>\n",
       "      <td>0</td>\n",
       "      <td>0</td>\n",
       "    </tr>\n",
       "    <tr>\n",
       "      <th>2043</th>\n",
       "      <td>785</td>\n",
       "      <td>905377130</td>\n",
       "      <td>30</td>\n",
       "      <td>RL</td>\n",
       "      <td>NaN</td>\n",
       "      <td>12342</td>\n",
       "      <td>Pave</td>\n",
       "      <td>NaN</td>\n",
       "      <td>IR1</td>\n",
       "      <td>Lvl</td>\n",
       "      <td>...</td>\n",
       "      <td>NaN</td>\n",
       "      <td>0</td>\n",
       "      <td>3</td>\n",
       "      <td>2009</td>\n",
       "      <td>WD</td>\n",
       "      <td>82500.0</td>\n",
       "      <td>0</td>\n",
       "      <td>0</td>\n",
       "      <td>0</td>\n",
       "      <td>0</td>\n",
       "    </tr>\n",
       "    <tr>\n",
       "      <th>2044</th>\n",
       "      <td>916</td>\n",
       "      <td>909253010</td>\n",
       "      <td>50</td>\n",
       "      <td>RL</td>\n",
       "      <td>57.0</td>\n",
       "      <td>7558</td>\n",
       "      <td>Pave</td>\n",
       "      <td>NaN</td>\n",
       "      <td>Reg</td>\n",
       "      <td>Bnk</td>\n",
       "      <td>...</td>\n",
       "      <td>NaN</td>\n",
       "      <td>0</td>\n",
       "      <td>3</td>\n",
       "      <td>2009</td>\n",
       "      <td>WD</td>\n",
       "      <td>177000.0</td>\n",
       "      <td>0</td>\n",
       "      <td>0</td>\n",
       "      <td>0</td>\n",
       "      <td>0</td>\n",
       "    </tr>\n",
       "    <tr>\n",
       "      <th>2045</th>\n",
       "      <td>639</td>\n",
       "      <td>535179160</td>\n",
       "      <td>20</td>\n",
       "      <td>RL</td>\n",
       "      <td>80.0</td>\n",
       "      <td>10400</td>\n",
       "      <td>Pave</td>\n",
       "      <td>NaN</td>\n",
       "      <td>Reg</td>\n",
       "      <td>Lvl</td>\n",
       "      <td>...</td>\n",
       "      <td>NaN</td>\n",
       "      <td>0</td>\n",
       "      <td>11</td>\n",
       "      <td>2009</td>\n",
       "      <td>WD</td>\n",
       "      <td>144000.0</td>\n",
       "      <td>0</td>\n",
       "      <td>0</td>\n",
       "      <td>0</td>\n",
       "      <td>0</td>\n",
       "    </tr>\n",
       "    <tr>\n",
       "      <th>2046</th>\n",
       "      <td>10</td>\n",
       "      <td>527162130</td>\n",
       "      <td>60</td>\n",
       "      <td>RL</td>\n",
       "      <td>60.0</td>\n",
       "      <td>7500</td>\n",
       "      <td>Pave</td>\n",
       "      <td>NaN</td>\n",
       "      <td>Reg</td>\n",
       "      <td>Lvl</td>\n",
       "      <td>...</td>\n",
       "      <td>NaN</td>\n",
       "      <td>0</td>\n",
       "      <td>6</td>\n",
       "      <td>2010</td>\n",
       "      <td>WD</td>\n",
       "      <td>189000.0</td>\n",
       "      <td>0</td>\n",
       "      <td>0</td>\n",
       "      <td>0</td>\n",
       "      <td>0</td>\n",
       "    </tr>\n",
       "  </tbody>\n",
       "</table>\n",
       "<p>2047 rows × 84 columns</p>\n",
       "</div>"
      ],
      "text/plain": [
       "        Id        PID  MS SubClass MS Zoning  Lot Frontage  Lot Area Street  \\\n",
       "0      109  533352170           60        RL           NaN     13517   Pave   \n",
       "1      544  531379050           60        RL          43.0     11492   Pave   \n",
       "2      153  535304180           20        RL          68.0      7922   Pave   \n",
       "3      318  916386060           60        RL          73.0      9802   Pave   \n",
       "4      255  906425045           50        RL          82.0     14235   Pave   \n",
       "...    ...        ...          ...       ...           ...       ...    ...   \n",
       "2042  1587  921126030           20        RL          79.0     11449   Pave   \n",
       "2043   785  905377130           30        RL           NaN     12342   Pave   \n",
       "2044   916  909253010           50        RL          57.0      7558   Pave   \n",
       "2045   639  535179160           20        RL          80.0     10400   Pave   \n",
       "2046    10  527162130           60        RL          60.0      7500   Pave   \n",
       "\n",
       "     Alley Lot Shape Land Contour  ... Misc Feature Misc Val Mo Sold Yr Sold  \\\n",
       "0      NaN       IR1          Lvl  ...          NaN        0       3    2010   \n",
       "1      NaN       IR1          Lvl  ...          NaN        0       4    2009   \n",
       "2      NaN       Reg          Lvl  ...          NaN        0       1    2010   \n",
       "3      NaN       Reg          Lvl  ...          NaN        0       4    2010   \n",
       "4      NaN       IR1          Lvl  ...          NaN        0       3    2010   \n",
       "...    ...       ...          ...  ...          ...      ...     ...     ...   \n",
       "2042   NaN       IR1          HLS  ...          NaN        0       1    2008   \n",
       "2043   NaN       IR1          Lvl  ...          NaN        0       3    2009   \n",
       "2044   NaN       Reg          Bnk  ...          NaN        0       3    2009   \n",
       "2045   NaN       Reg          Lvl  ...          NaN        0      11    2009   \n",
       "2046   NaN       Reg          Lvl  ...          NaN        0       6    2010   \n",
       "\n",
       "     Sale Type SalePrice Bldg Type_2fmCon  Bldg Type_Duplex  Bldg Type_Twnhs  \\\n",
       "0          WD   130500.0                0                 0                0   \n",
       "1          WD   220000.0                0                 0                0   \n",
       "2          WD   109000.0                0                 0                0   \n",
       "3          WD   174000.0                0                 0                0   \n",
       "4          WD   138500.0                0                 0                0   \n",
       "...        ...       ...              ...               ...              ...   \n",
       "2042       WD   298751.0                0                 0                0   \n",
       "2043       WD    82500.0                0                 0                0   \n",
       "2044       WD   177000.0                0                 0                0   \n",
       "2045       WD   144000.0                0                 0                0   \n",
       "2046       WD   189000.0                0                 0                0   \n",
       "\n",
       "      Bldg Type_TwnhsE  \n",
       "0                    0  \n",
       "1                    0  \n",
       "2                    0  \n",
       "3                    0  \n",
       "4                    0  \n",
       "...                ...  \n",
       "2042                 0  \n",
       "2043                 0  \n",
       "2044                 0  \n",
       "2045                 0  \n",
       "2046                 0  \n",
       "\n",
       "[2047 rows x 84 columns]"
      ]
     },
     "execution_count": 24,
     "metadata": {},
     "output_type": "execute_result"
    }
   ],
   "source": [
    "df_train"
   ]
  },
  {
   "cell_type": "code",
   "execution_count": 25,
   "id": "51697625-d8b7-4a53-a502-cf541e3ab4e6",
   "metadata": {},
   "outputs": [],
   "source": [
    "df_train = pd.read_csv('../data/roman_df.csv')\n",
    "df_test = pd.read_csv('../data/roman_df_test.csv')\n",
    "df_test['Central Air'] = df_test['Central Air'].map({'Y': 1, 'N': 0})"
   ]
  },
  {
   "cell_type": "code",
   "execution_count": 26,
   "id": "e6263a86-49b5-4c7a-be97-5deae9471f03",
   "metadata": {},
   "outputs": [],
   "source": [
    "df_train['total_area'] = df_train['Gr Liv Area'] * df_train['Total Bsmt SF']\n",
    "df_test['total_area'] = df_test['Gr Liv Area'] * df_test['Total Bsmt SF']"
   ]
  },
  {
   "cell_type": "code",
   "execution_count": 27,
   "id": "25a29dfe-1fcd-4ee8-9e5a-dc2d28cf9e30",
   "metadata": {},
   "outputs": [],
   "source": [
    "X = df_train[['total_area', 'Lot Area', 'Overall Qual', 'Overall Cond', 'Year Built', 'Garage Area', 'Garage Cars', 'Gr Liv Area', 'Total Bsmt SF', 'Fireplaces', 'Central Air', 'Year Remod/Add', 'Full Bath',\n",
    "             'BsmtFin SF 1', 'Lot Area', 'Bldg Type_2fmCon', 'Bldg Type_Duplex', 'Bldg Type_Twnhs', 'Bldg Type_TwnhsE', '1st Flr SF', 'TotRms AbvGrd']]\n",
    "y = df_train['SalePrice']"
   ]
  },
  {
   "cell_type": "code",
   "execution_count": 28,
   "id": "463dd5b9-9d46-42e6-af98-8e5224879b76",
   "metadata": {},
   "outputs": [],
   "source": [
    "X_train, X_test, y_train, y_test = train_test_split(X, y)\n",
    "sc = StandardScaler()\n",
    "Z_train = sc.fit_transform(X_train)\n",
    "Z_test = sc.transform(X_test)\n",
    "# remember to CHANGE THIS to match df_train!!!\n",
    "df_test_sc = sc.transform(df_test[['total_area', 'Lot Area', 'Overall Qual', 'Overall Cond', 'Year Built', 'Garage Area', 'Garage Cars', 'Gr Liv Area', 'Total Bsmt SF', 'Fireplaces', 'Central Air', 'Year Remod/Add', 'Full Bath',\n",
    "             'BsmtFin SF 1', 'Lot Area', 'Bldg Type_2fmCon', 'Bldg Type_Duplex', 'Bldg Type_Twnhs', 'Bldg Type_TwnhsE', '1st Flr SF', 'TotRms AbvGrd']])"
   ]
  },
  {
   "cell_type": "code",
   "execution_count": 29,
   "id": "4860cb1e-92c9-4e09-bfda-8dab632debb3",
   "metadata": {},
   "outputs": [
    {
     "data": {
      "text/plain": [
       "LassoCV(alphas=array([0.001     , 0.00107227, 0.00114976, 0.00123285, 0.00132194,\n",
       "       0.00141747, 0.00151991, 0.00162975, 0.00174753, 0.00187382,\n",
       "       0.00200923, 0.00215443, 0.00231013, 0.00247708, 0.00265609,\n",
       "       0.00284804, 0.00305386, 0.00327455, 0.00351119, 0.00376494,\n",
       "       0.00403702, 0.00432876, 0.00464159, 0.00497702, 0.0053367 ,\n",
       "       0.00572237, 0.00613591, 0.00657933, 0.0070548 , 0.00756463,\n",
       "       0.008...\n",
       "       0.09326033, 0.1       , 0.10722672, 0.1149757 , 0.12328467,\n",
       "       0.13219411, 0.14174742, 0.15199111, 0.16297508, 0.17475284,\n",
       "       0.18738174, 0.2009233 , 0.21544347, 0.23101297, 0.24770764,\n",
       "       0.26560878, 0.28480359, 0.30538555, 0.32745492, 0.35111917,\n",
       "       0.37649358, 0.40370173, 0.43287613, 0.46415888, 0.49770236,\n",
       "       0.53366992, 0.57223677, 0.61359073, 0.65793322, 0.70548023,\n",
       "       0.75646333, 0.81113083, 0.869749  , 0.93260335, 1.        ]))"
      ]
     },
     "execution_count": 29,
     "metadata": {},
     "output_type": "execute_result"
    }
   ],
   "source": [
    "lasso_cv = LassoCV(alphas=np.logspace(-3, 0, 100))\n",
    "lasso_cv.fit(Z_train, y_train)"
   ]
  },
  {
   "cell_type": "code",
   "execution_count": 30,
   "id": "be3754a0-d80b-4f14-aaba-3a5535509dd9",
   "metadata": {},
   "outputs": [
    {
     "name": "stdout",
     "output_type": "stream",
     "text": [
      "0.88563080539815\n",
      "0.877514998976516\n"
     ]
    }
   ],
   "source": [
    "print(lasso_cv.score(Z_train, y_train))\n",
    "print(lasso_cv.score(Z_test, y_test))"
   ]
  },
  {
   "cell_type": "code",
   "execution_count": 31,
   "id": "b5a66b0e-d4d9-4f29-8c01-ce17b0c7c5ea",
   "metadata": {},
   "outputs": [],
   "source": [
    "preds = lasso_cv.predict(df_test_sc)\n",
    "df_test['SalePrice'] = preds\n",
    "la_submission = df_test[['Id', 'SalePrice']]\n",
    "la_submission.set_index('Id', inplace=True)\n",
    "la_submission.to_csv('../data/sub_3.csv')"
   ]
  },
  {
   "cell_type": "code",
   "execution_count": 32,
   "id": "6c9b6110-f56c-499a-98d0-37895458e423",
   "metadata": {},
   "outputs": [],
   "source": [
    "# last sub not yet submitted!"
   ]
  },
  {
   "cell_type": "code",
   "execution_count": null,
   "id": "62d15f2c-ae34-4a9b-aa4a-5f13cd1fe91f",
   "metadata": {},
   "outputs": [],
   "source": []
  }
 ],
 "metadata": {
  "kernelspec": {
   "display_name": "Python [conda env:dsi]",
   "language": "python",
   "name": "conda-env-dsi-py"
  },
  "language_info": {
   "codemirror_mode": {
    "name": "ipython",
    "version": 3
   },
   "file_extension": ".py",
   "mimetype": "text/x-python",
   "name": "python",
   "nbconvert_exporter": "python",
   "pygments_lexer": "ipython3",
   "version": "3.8.13"
  }
 },
 "nbformat": 4,
 "nbformat_minor": 5
}
