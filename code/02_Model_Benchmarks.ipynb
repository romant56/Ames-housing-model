{
 "cells": [
  {
   "cell_type": "code",
   "execution_count": 1,
   "id": "98a789ae-ae02-485b-89d6-7b31c19abe44",
   "metadata": {},
   "outputs": [],
   "source": [
    "import pandas as pd\n",
    "import numpy as np\n",
    "import seaborn as sns\n",
    "import matplotlib.pyplot as plt\n",
    "\n",
    "from sklearn.model_selection import train_test_split, cross_val_score\n",
    "from sklearn.linear_model import LinearRegression, RidgeCV, LassoCV\n",
    "from sklearn.metrics import r2_score\n",
    "from sklearn.preprocessing import PolynomialFeatures, StandardScaler"
   ]
  },
  {
   "cell_type": "markdown",
   "id": "1f0240f1-d574-4b3e-baba-6b7b3c8a624e",
   "metadata": {},
   "source": [
    "#### Submission 1: Linear Regression"
   ]
  },
  {
   "cell_type": "code",
   "execution_count": 2,
   "id": "2625b73f-8c93-4500-b6c3-b7617bf5fcc4",
   "metadata": {},
   "outputs": [],
   "source": [
    "df_train = pd.read_csv('../data/roman_df.csv')\n",
    "df_test = pd.read_csv('../data/roman_df_test.csv')\n",
    "lr = LinearRegression()"
   ]
  },
  {
   "cell_type": "code",
   "execution_count": 3,
   "id": "6ca1e523-3933-45a7-b298-97a44183a111",
   "metadata": {},
   "outputs": [],
   "source": [
    "# simple model with only two independent variables\n",
    "X = df_train[['Overall Qual', 'Gr Liv Area']]\n",
    "y = df_train['SalePrice']"
   ]
  },
  {
   "cell_type": "code",
   "execution_count": 4,
   "id": "3562e358-7758-4094-b483-d9869a504b1d",
   "metadata": {},
   "outputs": [],
   "source": [
    "X_train, X_test, y_train, y_test = train_test_split(X, y)"
   ]
  },
  {
   "cell_type": "code",
   "execution_count": 5,
   "id": "c8c89cff-49e6-49d2-941d-f9a11861b74f",
   "metadata": {},
   "outputs": [
    {
     "data": {
      "text/plain": [
       "LinearRegression()"
      ]
     },
     "execution_count": 5,
     "metadata": {},
     "output_type": "execute_result"
    }
   ],
   "source": [
    "lr.fit(X_train, y_train)"
   ]
  },
  {
   "cell_type": "code",
   "execution_count": 6,
   "id": "73e3ead5-d06d-45da-9e24-574e1a4e5f98",
   "metadata": {},
   "outputs": [
    {
     "data": {
      "text/plain": [
       "0.7471337869197143"
      ]
     },
     "execution_count": 6,
     "metadata": {},
     "output_type": "execute_result"
    }
   ],
   "source": [
    "lr.score(X_train, y_train)"
   ]
  },
  {
   "cell_type": "code",
   "execution_count": 7,
   "id": "8444af84-7960-4814-b81f-160a20bdf270",
   "metadata": {},
   "outputs": [
    {
     "data": {
      "text/plain": [
       "0.7538603656404342"
      ]
     },
     "execution_count": 7,
     "metadata": {},
     "output_type": "execute_result"
    }
   ],
   "source": [
    "lr.score(X_test, y_test)"
   ]
  },
  {
   "cell_type": "code",
   "execution_count": 8,
   "id": "c2a8cf7d-5e59-4742-88ff-f360162ff8a5",
   "metadata": {},
   "outputs": [],
   "source": [
    "preds = lr.predict(df_test[['Overall Qual', 'Gr Liv Area']])"
   ]
  },
  {
   "cell_type": "code",
   "execution_count": 9,
   "id": "83e64e39-eab3-4ce7-922d-9144fc58ff65",
   "metadata": {},
   "outputs": [],
   "source": [
    "df_test['SalePrice'] = preds"
   ]
  },
  {
   "cell_type": "code",
   "execution_count": 10,
   "id": "8e03a397-f949-4d15-83e8-651279b56380",
   "metadata": {},
   "outputs": [],
   "source": [
    "lr_submission = df_test[['Id', 'SalePrice']]"
   ]
  },
  {
   "cell_type": "code",
   "execution_count": 11,
   "id": "4912d8a8-bda3-4bbd-a256-ab3c111512b5",
   "metadata": {},
   "outputs": [],
   "source": [
    "lr_submission.set_index('Id', inplace=True)"
   ]
  },
  {
   "cell_type": "code",
   "execution_count": 12,
   "id": "51aca9da-68d7-45b1-acc7-c5748bff916c",
   "metadata": {},
   "outputs": [],
   "source": [
    "lr_submission.to_csv('../data/sub_1.csv')"
   ]
  },
  {
   "cell_type": "markdown",
   "id": "b4ac7422-9042-4678-8b20-603822905427",
   "metadata": {},
   "source": [
    "#### Submission 2:  Linear Regression with Preprocessing"
   ]
  },
  {
   "cell_type": "code",
   "execution_count": 13,
   "id": "d4d221b2-b98e-4841-8e5b-dd7b9988dd93",
   "metadata": {
    "tags": []
   },
   "outputs": [],
   "source": [
    "df_train = pd.read_csv('../data/roman_df.csv')\n",
    "df_test = pd.read_csv('../data/roman_df_test.csv')\n",
    "lr = LinearRegression()"
   ]
  },
  {
   "cell_type": "code",
   "execution_count": 14,
   "id": "5e67a2c4-7844-4c94-8066-77559d75547c",
   "metadata": {
    "tags": []
   },
   "outputs": [],
   "source": [
    "# model using a new category of areas multiplied together\n",
    "df_train['total_area'] = df_train['Gr Liv Area'] * df_train['Total Bsmt SF']\n",
    "df_test['total_area'] = df_test['Gr Liv Area'] * df_test['Total Bsmt SF']"
   ]
  },
  {
   "cell_type": "code",
   "execution_count": 15,
   "id": "5da19d61-a0aa-42d9-ae5c-948af2029bc5",
   "metadata": {},
   "outputs": [
    {
     "data": {
      "text/plain": [
       "0.8032347323772584"
      ]
     },
     "execution_count": 15,
     "metadata": {},
     "output_type": "execute_result"
    }
   ],
   "source": [
    "X = df_train[['Overall Qual', 'total_area']]\n",
    "y = df_train['SalePrice']\n",
    "X_train, X_test, y_train, y_test = train_test_split(X, y)\n",
    "lr.fit(X_train, y_train)\n",
    "lr.score(X_train, y_train)"
   ]
  },
  {
   "cell_type": "code",
   "execution_count": 16,
   "id": "9760e86e-ebf9-4da3-aec0-76f196ccb9ae",
   "metadata": {},
   "outputs": [
    {
     "data": {
      "text/plain": [
       "0.8238611560110181"
      ]
     },
     "execution_count": 16,
     "metadata": {},
     "output_type": "execute_result"
    }
   ],
   "source": [
    "lr.score(X_test, y_test)"
   ]
  },
  {
   "cell_type": "code",
   "execution_count": 17,
   "id": "9aea2daf-f77b-42ef-ba08-1c06aba68fc2",
   "metadata": {},
   "outputs": [],
   "source": [
    "preds = lr.predict(df_test[['Overall Qual', 'total_area']])\n",
    "df_test['SalePrice'] = preds\n",
    "lr_submission = df_test[['Id', 'SalePrice']]\n",
    "lr_submission.set_index('Id', inplace=True)\n",
    "lr_submission.to_csv('../data/sub_2.csv')"
   ]
  },
  {
   "cell_type": "markdown",
   "id": "5fd26dfb-7fdd-4dd6-9bf3-097b39aff543",
   "metadata": {},
   "source": [
    "#### Ridge"
   ]
  },
  {
   "cell_type": "code",
   "execution_count": 18,
   "id": "29d35ee0-3074-4b73-8a8b-55aca19c3a70",
   "metadata": {},
   "outputs": [],
   "source": [
    "df_train = pd.read_csv('../data/roman_df.csv')\n",
    "df_test = pd.read_csv('../data/roman_df_test.csv')"
   ]
  },
  {
   "cell_type": "code",
   "execution_count": 19,
   "id": "5b5564d1-c990-4417-8ea2-15febf853300",
   "metadata": {},
   "outputs": [],
   "source": [
    "# ridge model using the X and y as the previous linear regression\n",
    "# 'Overall Qual' and 'total_area'\n",
    "\n",
    "X_train, X_test, y_train, y_test = train_test_split(X, y)\n",
    "sc = StandardScaler()\n",
    "Z_train = sc.fit_transform(X_train)\n",
    "Z_test = sc.transform(X_test)"
   ]
  },
  {
   "cell_type": "code",
   "execution_count": 20,
   "id": "d8d736bd-7170-4f7b-af8b-2a69f69fa416",
   "metadata": {},
   "outputs": [],
   "source": [
    "ridge_cv = RidgeCV(alphas=np.logspace(0, 5, 100))"
   ]
  },
  {
   "cell_type": "code",
   "execution_count": 21,
   "id": "67975038-9d37-40d8-b954-21f11f3183b1",
   "metadata": {},
   "outputs": [
    {
     "data": {
      "text/plain": [
       "RidgeCV(alphas=array([1.00000000e+00, 1.12332403e+00, 1.26185688e+00, 1.41747416e+00,\n",
       "       1.59228279e+00, 1.78864953e+00, 2.00923300e+00, 2.25701972e+00,\n",
       "       2.53536449e+00, 2.84803587e+00, 3.19926714e+00, 3.59381366e+00,\n",
       "       4.03701726e+00, 4.53487851e+00, 5.09413801e+00, 5.72236766e+00,\n",
       "       6.42807312e+00, 7.22080902e+00, 8.11130831e+00, 9.11162756e+00,\n",
       "       1.02353102e+01, 1.14975700e+0...\n",
       "       6.89261210e+03, 7.74263683e+03, 8.69749003e+03, 9.77009957e+03,\n",
       "       1.09749877e+04, 1.23284674e+04, 1.38488637e+04, 1.55567614e+04,\n",
       "       1.74752840e+04, 1.96304065e+04, 2.20513074e+04, 2.47707636e+04,\n",
       "       2.78255940e+04, 3.12571585e+04, 3.51119173e+04, 3.94420606e+04,\n",
       "       4.43062146e+04, 4.97702356e+04, 5.59081018e+04, 6.28029144e+04,\n",
       "       7.05480231e+04, 7.92482898e+04, 8.90215085e+04, 1.00000000e+05]))"
      ]
     },
     "execution_count": 21,
     "metadata": {},
     "output_type": "execute_result"
    }
   ],
   "source": [
    "ridge_cv.fit(Z_train, y_train)"
   ]
  },
  {
   "cell_type": "code",
   "execution_count": 22,
   "id": "cf9d6638-4375-4f04-826b-f37e75870b3d",
   "metadata": {},
   "outputs": [
    {
     "data": {
      "text/plain": [
       "4.534878508128582"
      ]
     },
     "execution_count": 22,
     "metadata": {},
     "output_type": "execute_result"
    }
   ],
   "source": [
    "ridge_cv.alpha_"
   ]
  },
  {
   "cell_type": "code",
   "execution_count": 23,
   "id": "5da5b2c1-02fd-4e18-95cc-18060f958ae0",
   "metadata": {},
   "outputs": [
    {
     "name": "stdout",
     "output_type": "stream",
     "text": [
      "0.8114884616000992\n",
      "0.8033246065654869\n"
     ]
    }
   ],
   "source": [
    "print(ridge_cv.score(Z_train, y_train))\n",
    "print(ridge_cv.score(Z_test, y_test))"
   ]
  },
  {
   "cell_type": "markdown",
   "id": "d1d677cf-a973-4625-b8c9-747419864606",
   "metadata": {},
   "source": [
    "#### Submission 3: Lasso"
   ]
  },
  {
   "cell_type": "code",
   "execution_count": 24,
   "id": "51697625-d8b7-4a53-a502-cf541e3ab4e6",
   "metadata": {},
   "outputs": [],
   "source": [
    "df_train = pd.read_csv('../data/roman_df.csv')\n",
    "df_test = pd.read_csv('../data/roman_df_test.csv')\n",
    "df_test['Central Air'] = df_test['Central Air'].map({'Y': 1, 'N': 0})"
   ]
  },
  {
   "cell_type": "code",
   "execution_count": 25,
   "id": "d1c01b49-2abf-4e12-a4cf-fc5f6214012a",
   "metadata": {},
   "outputs": [],
   "source": [
    "# list to add all the new neighborhood dummy columns\n",
    "neighborhoods = df_train.columns[83:].values.tolist()"
   ]
  },
  {
   "cell_type": "code",
   "execution_count": 26,
   "id": "e6263a86-49b5-4c7a-be97-5deae9471f03",
   "metadata": {},
   "outputs": [],
   "source": [
    "# one old feature and one new feature\n",
    "df_train['total_area'] = df_train['Gr Liv Area'] * df_train['Total Bsmt SF']\n",
    "df_test['total_area'] = df_test['Gr Liv Area'] * df_test['Total Bsmt SF']\n",
    "df_train['overall'] = df_train['total_area'] * df_train['Overall Qual']\n",
    "df_test['overall'] = df_test['total_area'] * df_test['Overall Qual']"
   ]
  },
  {
   "cell_type": "code",
   "execution_count": 27,
   "id": "25a29dfe-1fcd-4ee8-9e5a-dc2d28cf9e30",
   "metadata": {},
   "outputs": [
    {
     "name": "stdout",
     "output_type": "stream",
     "text": [
      "49\n"
     ]
    }
   ],
   "source": [
    "# lengthy list of features added to the lengthy neighborhood dummies list\n",
    "# Going forward, use of 'features' list ensures that train and test will be using the same columns\n",
    "features = ['total_area', 'Lot Area', 'Overall Qual', 'Overall Cond', 'Year Built', 'Garage Area', 'Garage Cars', 'Gr Liv Area', 'Total Bsmt SF', 'Fireplaces', 'Central Air', 'Year Remod/Add', 'Full Bath',\n",
    "             'BsmtFin SF 1', 'Lot Area', 'Bldg Type_2fmCon', 'Bldg Type_Duplex', 'Bldg Type_Twnhs', 'Bldg Type_TwnhsE', '1st Flr SF', 'TotRms AbvGrd', 'overall']\n",
    "features += neighborhoods\n",
    "X = df_train[features]\n",
    "y = df_train['SalePrice']\n",
    "print(len(features))"
   ]
  },
  {
   "cell_type": "code",
   "execution_count": 28,
   "id": "463dd5b9-9d46-42e6-af98-8e5224879b76",
   "metadata": {},
   "outputs": [],
   "source": [
    "X_train, X_test, y_train, y_test = train_test_split(X, y)\n",
    "sc = StandardScaler()\n",
    "Z_train = sc.fit_transform(X_train)\n",
    "Z_test = sc.transform(X_test)\n",
    "df_test_sc = sc.transform(df_test[features])"
   ]
  },
  {
   "cell_type": "code",
   "execution_count": 29,
   "id": "4860cb1e-92c9-4e09-bfda-8dab632debb3",
   "metadata": {},
   "outputs": [
    {
     "name": "stderr",
     "output_type": "stream",
     "text": [
      "C:\\Users\\roman\\miniconda3\\envs\\dsi\\lib\\site-packages\\sklearn\\linear_model\\_coordinate_descent.py:633: ConvergenceWarning: Objective did not converge. You might want to increase the number of iterations. Duality gap: 13994339290.44281, tolerance: 741566428.1260934\n",
      "  model = cd_fast.enet_coordinate_descent_gram(\n",
      "C:\\Users\\roman\\miniconda3\\envs\\dsi\\lib\\site-packages\\sklearn\\linear_model\\_coordinate_descent.py:633: ConvergenceWarning: Objective did not converge. You might want to increase the number of iterations. Duality gap: 11290516556.451904, tolerance: 741566428.1260934\n",
      "  model = cd_fast.enet_coordinate_descent_gram(\n",
      "C:\\Users\\roman\\miniconda3\\envs\\dsi\\lib\\site-packages\\sklearn\\linear_model\\_coordinate_descent.py:633: ConvergenceWarning: Objective did not converge. You might want to increase the number of iterations. Duality gap: 11274102357.40857, tolerance: 741566428.1260934\n",
      "  model = cd_fast.enet_coordinate_descent_gram(\n",
      "C:\\Users\\roman\\miniconda3\\envs\\dsi\\lib\\site-packages\\sklearn\\linear_model\\_coordinate_descent.py:633: ConvergenceWarning: Objective did not converge. You might want to increase the number of iterations. Duality gap: 11259592068.786133, tolerance: 741566428.1260934\n",
      "  model = cd_fast.enet_coordinate_descent_gram(\n",
      "C:\\Users\\roman\\miniconda3\\envs\\dsi\\lib\\site-packages\\sklearn\\linear_model\\_coordinate_descent.py:633: ConvergenceWarning: Objective did not converge. You might want to increase the number of iterations. Duality gap: 11246666663.14917, tolerance: 741566428.1260934\n",
      "  model = cd_fast.enet_coordinate_descent_gram(\n",
      "C:\\Users\\roman\\miniconda3\\envs\\dsi\\lib\\site-packages\\sklearn\\linear_model\\_coordinate_descent.py:633: ConvergenceWarning: Objective did not converge. You might want to increase the number of iterations. Duality gap: 11235140265.750366, tolerance: 741566428.1260934\n",
      "  model = cd_fast.enet_coordinate_descent_gram(\n",
      "C:\\Users\\roman\\miniconda3\\envs\\dsi\\lib\\site-packages\\sklearn\\linear_model\\_coordinate_descent.py:633: ConvergenceWarning: Objective did not converge. You might want to increase the number of iterations. Duality gap: 11224849820.737488, tolerance: 741566428.1260934\n",
      "  model = cd_fast.enet_coordinate_descent_gram(\n",
      "C:\\Users\\roman\\miniconda3\\envs\\dsi\\lib\\site-packages\\sklearn\\linear_model\\_coordinate_descent.py:633: ConvergenceWarning: Objective did not converge. You might want to increase the number of iterations. Duality gap: 11215652268.467651, tolerance: 741566428.1260934\n",
      "  model = cd_fast.enet_coordinate_descent_gram(\n",
      "C:\\Users\\roman\\miniconda3\\envs\\dsi\\lib\\site-packages\\sklearn\\linear_model\\_coordinate_descent.py:633: ConvergenceWarning: Objective did not converge. You might want to increase the number of iterations. Duality gap: 11207421873.189392, tolerance: 741566428.1260934\n",
      "  model = cd_fast.enet_coordinate_descent_gram(\n",
      "C:\\Users\\roman\\miniconda3\\envs\\dsi\\lib\\site-packages\\sklearn\\linear_model\\_coordinate_descent.py:633: ConvergenceWarning: Objective did not converge. You might want to increase the number of iterations. Duality gap: 25618680926.054626, tolerance: 750545706.1572158\n",
      "  model = cd_fast.enet_coordinate_descent_gram(\n",
      "C:\\Users\\roman\\miniconda3\\envs\\dsi\\lib\\site-packages\\sklearn\\linear_model\\_coordinate_descent.py:633: ConvergenceWarning: Objective did not converge. You might want to increase the number of iterations. Duality gap: 23132852058.062256, tolerance: 750545706.1572158\n",
      "  model = cd_fast.enet_coordinate_descent_gram(\n",
      "C:\\Users\\roman\\miniconda3\\envs\\dsi\\lib\\site-packages\\sklearn\\linear_model\\_coordinate_descent.py:633: ConvergenceWarning: Objective did not converge. You might want to increase the number of iterations. Duality gap: 23118502517.470825, tolerance: 750545706.1572158\n",
      "  model = cd_fast.enet_coordinate_descent_gram(\n",
      "C:\\Users\\roman\\miniconda3\\envs\\dsi\\lib\\site-packages\\sklearn\\linear_model\\_coordinate_descent.py:633: ConvergenceWarning: Objective did not converge. You might want to increase the number of iterations. Duality gap: 23105681034.730103, tolerance: 750545706.1572158\n",
      "  model = cd_fast.enet_coordinate_descent_gram(\n",
      "C:\\Users\\roman\\miniconda3\\envs\\dsi\\lib\\site-packages\\sklearn\\linear_model\\_coordinate_descent.py:633: ConvergenceWarning: Objective did not converge. You might want to increase the number of iterations. Duality gap: 23094119364.37628, tolerance: 750545706.1572158\n",
      "  model = cd_fast.enet_coordinate_descent_gram(\n",
      "C:\\Users\\roman\\miniconda3\\envs\\dsi\\lib\\site-packages\\sklearn\\linear_model\\_coordinate_descent.py:633: ConvergenceWarning: Objective did not converge. You might want to increase the number of iterations. Duality gap: 23083681063.865112, tolerance: 750545706.1572158\n",
      "  model = cd_fast.enet_coordinate_descent_gram(\n",
      "C:\\Users\\roman\\miniconda3\\envs\\dsi\\lib\\site-packages\\sklearn\\linear_model\\_coordinate_descent.py:633: ConvergenceWarning: Objective did not converge. You might want to increase the number of iterations. Duality gap: 23074245567.707153, tolerance: 750545706.1572158\n",
      "  model = cd_fast.enet_coordinate_descent_gram(\n",
      "C:\\Users\\roman\\miniconda3\\envs\\dsi\\lib\\site-packages\\sklearn\\linear_model\\_coordinate_descent.py:633: ConvergenceWarning: Objective did not converge. You might want to increase the number of iterations. Duality gap: 23065706318.53235, tolerance: 750545706.1572158\n",
      "  model = cd_fast.enet_coordinate_descent_gram(\n",
      "C:\\Users\\roman\\miniconda3\\envs\\dsi\\lib\\site-packages\\sklearn\\linear_model\\_coordinate_descent.py:633: ConvergenceWarning: Objective did not converge. You might want to increase the number of iterations. Duality gap: 23057969009.000732, tolerance: 750545706.1572158\n",
      "  model = cd_fast.enet_coordinate_descent_gram(\n",
      "C:\\Users\\roman\\miniconda3\\envs\\dsi\\lib\\site-packages\\sklearn\\linear_model\\_coordinate_descent.py:633: ConvergenceWarning: Objective did not converge. You might want to increase the number of iterations. Duality gap: 5097946378.686401, tolerance: 701224283.4781098\n",
      "  model = cd_fast.enet_coordinate_descent_gram(\n",
      "C:\\Users\\roman\\miniconda3\\envs\\dsi\\lib\\site-packages\\sklearn\\linear_model\\_coordinate_descent.py:633: ConvergenceWarning: Objective did not converge. You might want to increase the number of iterations. Duality gap: 3145103900.74823, tolerance: 701224283.4781098\n",
      "  model = cd_fast.enet_coordinate_descent_gram(\n",
      "C:\\Users\\roman\\miniconda3\\envs\\dsi\\lib\\site-packages\\sklearn\\linear_model\\_coordinate_descent.py:633: ConvergenceWarning: Objective did not converge. You might want to increase the number of iterations. Duality gap: 3134618051.4311523, tolerance: 701224283.4781098\n",
      "  model = cd_fast.enet_coordinate_descent_gram(\n",
      "C:\\Users\\roman\\miniconda3\\envs\\dsi\\lib\\site-packages\\sklearn\\linear_model\\_coordinate_descent.py:633: ConvergenceWarning: Objective did not converge. You might want to increase the number of iterations. Duality gap: 3125357887.0012207, tolerance: 701224283.4781098\n",
      "  model = cd_fast.enet_coordinate_descent_gram(\n",
      "C:\\Users\\roman\\miniconda3\\envs\\dsi\\lib\\site-packages\\sklearn\\linear_model\\_coordinate_descent.py:633: ConvergenceWarning: Objective did not converge. You might want to increase the number of iterations. Duality gap: 3117107839.6724243, tolerance: 701224283.4781098\n",
      "  model = cd_fast.enet_coordinate_descent_gram(\n",
      "C:\\Users\\roman\\miniconda3\\envs\\dsi\\lib\\site-packages\\sklearn\\linear_model\\_coordinate_descent.py:633: ConvergenceWarning: Objective did not converge. You might want to increase the number of iterations. Duality gap: 3109749536.3477783, tolerance: 701224283.4781098\n",
      "  model = cd_fast.enet_coordinate_descent_gram(\n",
      "C:\\Users\\roman\\miniconda3\\envs\\dsi\\lib\\site-packages\\sklearn\\linear_model\\_coordinate_descent.py:633: ConvergenceWarning: Objective did not converge. You might want to increase the number of iterations. Duality gap: 3103179152.1398315, tolerance: 701224283.4781098\n",
      "  model = cd_fast.enet_coordinate_descent_gram(\n",
      "C:\\Users\\roman\\miniconda3\\envs\\dsi\\lib\\site-packages\\sklearn\\linear_model\\_coordinate_descent.py:633: ConvergenceWarning: Objective did not converge. You might want to increase the number of iterations. Duality gap: 3097305556.4732666, tolerance: 701224283.4781098\n",
      "  model = cd_fast.enet_coordinate_descent_gram(\n",
      "C:\\Users\\roman\\miniconda3\\envs\\dsi\\lib\\site-packages\\sklearn\\linear_model\\_coordinate_descent.py:633: ConvergenceWarning: Objective did not converge. You might want to increase the number of iterations. Duality gap: 3092048708.619629, tolerance: 701224283.4781098\n",
      "  model = cd_fast.enet_coordinate_descent_gram(\n",
      "C:\\Users\\roman\\miniconda3\\envs\\dsi\\lib\\site-packages\\sklearn\\linear_model\\_coordinate_descent.py:633: ConvergenceWarning: Objective did not converge. You might want to increase the number of iterations. Duality gap: 3087338265.6866455, tolerance: 701224283.4781098\n",
      "  model = cd_fast.enet_coordinate_descent_gram(\n",
      "C:\\Users\\roman\\miniconda3\\envs\\dsi\\lib\\site-packages\\sklearn\\linear_model\\_coordinate_descent.py:633: ConvergenceWarning: Objective did not converge. You might want to increase the number of iterations. Duality gap: 708468055.6796265, tolerance: 701224283.4781098\n",
      "  model = cd_fast.enet_coordinate_descent_gram(\n",
      "C:\\Users\\roman\\miniconda3\\envs\\dsi\\lib\\site-packages\\sklearn\\linear_model\\_coordinate_descent.py:633: ConvergenceWarning: Objective did not converge. You might want to increase the number of iterations. Duality gap: 18595610717.795227, tolerance: 758716034.8413095\n",
      "  model = cd_fast.enet_coordinate_descent_gram(\n",
      "C:\\Users\\roman\\miniconda3\\envs\\dsi\\lib\\site-packages\\sklearn\\linear_model\\_coordinate_descent.py:633: ConvergenceWarning: Objective did not converge. You might want to increase the number of iterations. Duality gap: 4193894975.416931, tolerance: 758716034.8413095\n",
      "  model = cd_fast.enet_coordinate_descent_gram(\n",
      "C:\\Users\\roman\\miniconda3\\envs\\dsi\\lib\\site-packages\\sklearn\\linear_model\\_coordinate_descent.py:633: ConvergenceWarning: Objective did not converge. You might want to increase the number of iterations. Duality gap: 4180233753.588745, tolerance: 758716034.8413095\n",
      "  model = cd_fast.enet_coordinate_descent_gram(\n",
      "C:\\Users\\roman\\miniconda3\\envs\\dsi\\lib\\site-packages\\sklearn\\linear_model\\_coordinate_descent.py:633: ConvergenceWarning: Objective did not converge. You might want to increase the number of iterations. Duality gap: 4170556161.310791, tolerance: 758716034.8413095\n",
      "  model = cd_fast.enet_coordinate_descent_gram(\n",
      "C:\\Users\\roman\\miniconda3\\envs\\dsi\\lib\\site-packages\\sklearn\\linear_model\\_coordinate_descent.py:633: ConvergenceWarning: Objective did not converge. You might want to increase the number of iterations. Duality gap: 4161896108.248291, tolerance: 758716034.8413095\n",
      "  model = cd_fast.enet_coordinate_descent_gram(\n",
      "C:\\Users\\roman\\miniconda3\\envs\\dsi\\lib\\site-packages\\sklearn\\linear_model\\_coordinate_descent.py:633: ConvergenceWarning: Objective did not converge. You might want to increase the number of iterations. Duality gap: 4154136832.8078613, tolerance: 758716034.8413095\n",
      "  model = cd_fast.enet_coordinate_descent_gram(\n",
      "C:\\Users\\roman\\miniconda3\\envs\\dsi\\lib\\site-packages\\sklearn\\linear_model\\_coordinate_descent.py:633: ConvergenceWarning: Objective did not converge. You might want to increase the number of iterations. Duality gap: 4147176304.788147, tolerance: 758716034.8413095\n",
      "  model = cd_fast.enet_coordinate_descent_gram(\n",
      "C:\\Users\\roman\\miniconda3\\envs\\dsi\\lib\\site-packages\\sklearn\\linear_model\\_coordinate_descent.py:633: ConvergenceWarning: Objective did not converge. You might want to increase the number of iterations. Duality gap: 4140924752.694824, tolerance: 758716034.8413095\n",
      "  model = cd_fast.enet_coordinate_descent_gram(\n",
      "C:\\Users\\roman\\miniconda3\\envs\\dsi\\lib\\site-packages\\sklearn\\linear_model\\_coordinate_descent.py:633: ConvergenceWarning: Objective did not converge. You might want to increase the number of iterations. Duality gap: 4135303208.1988525, tolerance: 758716034.8413095\n",
      "  model = cd_fast.enet_coordinate_descent_gram(\n",
      "C:\\Users\\roman\\miniconda3\\envs\\dsi\\lib\\site-packages\\sklearn\\linear_model\\_coordinate_descent.py:633: ConvergenceWarning: Objective did not converge. You might want to increase the number of iterations. Duality gap: 4130242004.871216, tolerance: 758716034.8413095\n",
      "  model = cd_fast.enet_coordinate_descent_gram(\n",
      "C:\\Users\\roman\\miniconda3\\envs\\dsi\\lib\\site-packages\\sklearn\\linear_model\\_coordinate_descent.py:633: ConvergenceWarning: Objective did not converge. You might want to increase the number of iterations. Duality gap: 4125679746.9296875, tolerance: 758716034.8413095\n",
      "  model = cd_fast.enet_coordinate_descent_gram(\n",
      "C:\\Users\\roman\\miniconda3\\envs\\dsi\\lib\\site-packages\\sklearn\\linear_model\\_coordinate_descent.py:633: ConvergenceWarning: Objective did not converge. You might want to increase the number of iterations. Duality gap: 4121562220.9624023, tolerance: 758716034.8413095\n",
      "  model = cd_fast.enet_coordinate_descent_gram(\n",
      "C:\\Users\\roman\\miniconda3\\envs\\dsi\\lib\\site-packages\\sklearn\\linear_model\\_coordinate_descent.py:633: ConvergenceWarning: Objective did not converge. You might want to increase the number of iterations. Duality gap: 29417643291.52356, tolerance: 749430227.6028951\n",
      "  model = cd_fast.enet_coordinate_descent_gram(\n",
      "C:\\Users\\roman\\miniconda3\\envs\\dsi\\lib\\site-packages\\sklearn\\linear_model\\_coordinate_descent.py:633: ConvergenceWarning: Objective did not converge. You might want to increase the number of iterations. Duality gap: 22371814287.547974, tolerance: 749430227.6028951\n",
      "  model = cd_fast.enet_coordinate_descent_gram(\n",
      "C:\\Users\\roman\\miniconda3\\envs\\dsi\\lib\\site-packages\\sklearn\\linear_model\\_coordinate_descent.py:633: ConvergenceWarning: Objective did not converge. You might want to increase the number of iterations. Duality gap: 22355543648.634766, tolerance: 749430227.6028951\n",
      "  model = cd_fast.enet_coordinate_descent_gram(\n",
      "C:\\Users\\roman\\miniconda3\\envs\\dsi\\lib\\site-packages\\sklearn\\linear_model\\_coordinate_descent.py:633: ConvergenceWarning: Objective did not converge. You might want to increase the number of iterations. Duality gap: 22341797681.20526, tolerance: 749430227.6028951\n",
      "  model = cd_fast.enet_coordinate_descent_gram(\n",
      "C:\\Users\\roman\\miniconda3\\envs\\dsi\\lib\\site-packages\\sklearn\\linear_model\\_coordinate_descent.py:633: ConvergenceWarning: Objective did not converge. You might want to increase the number of iterations. Duality gap: 22329382275.320312, tolerance: 749430227.6028951\n",
      "  model = cd_fast.enet_coordinate_descent_gram(\n",
      "C:\\Users\\roman\\miniconda3\\envs\\dsi\\lib\\site-packages\\sklearn\\linear_model\\_coordinate_descent.py:633: ConvergenceWarning: Objective did not converge. You might want to increase the number of iterations. Duality gap: 22318155028.65753, tolerance: 749430227.6028951\n",
      "  model = cd_fast.enet_coordinate_descent_gram(\n",
      "C:\\Users\\roman\\miniconda3\\envs\\dsi\\lib\\site-packages\\sklearn\\linear_model\\_coordinate_descent.py:633: ConvergenceWarning: Objective did not converge. You might want to increase the number of iterations. Duality gap: 22307990059.468994, tolerance: 749430227.6028951\n",
      "  model = cd_fast.enet_coordinate_descent_gram(\n",
      "C:\\Users\\roman\\miniconda3\\envs\\dsi\\lib\\site-packages\\sklearn\\linear_model\\_coordinate_descent.py:633: ConvergenceWarning: Objective did not converge. You might want to increase the number of iterations. Duality gap: 22298775968.166443, tolerance: 749430227.6028951\n",
      "  model = cd_fast.enet_coordinate_descent_gram(\n",
      "C:\\Users\\roman\\miniconda3\\envs\\dsi\\lib\\site-packages\\sklearn\\linear_model\\_coordinate_descent.py:633: ConvergenceWarning: Objective did not converge. You might want to increase the number of iterations. Duality gap: 22290414080.734253, tolerance: 749430227.6028951\n",
      "  model = cd_fast.enet_coordinate_descent_gram(\n",
      "C:\\Users\\roman\\miniconda3\\envs\\dsi\\lib\\site-packages\\sklearn\\linear_model\\_coordinate_descent.py:633: ConvergenceWarning: Objective did not converge. You might want to increase the number of iterations. Duality gap: 22282816811.36206, tolerance: 749430227.6028951\n",
      "  model = cd_fast.enet_coordinate_descent_gram(\n",
      "C:\\Users\\roman\\miniconda3\\envs\\dsi\\lib\\site-packages\\sklearn\\linear_model\\_coordinate_descent.py:647: ConvergenceWarning: Objective did not converge. You might want to increase the number of iterations, check the scale of the features or consider increasing regularisation. Duality gap: 1.079e+10, tolerance: 9.256e+08\n",
      "  model = cd_fast.enet_coordinate_descent(\n"
     ]
    },
    {
     "data": {
      "text/plain": [
       "LassoCV(alphas=array([0.001     , 0.00107227, 0.00114976, 0.00123285, 0.00132194,\n",
       "       0.00141747, 0.00151991, 0.00162975, 0.00174753, 0.00187382,\n",
       "       0.00200923, 0.00215443, 0.00231013, 0.00247708, 0.00265609,\n",
       "       0.00284804, 0.00305386, 0.00327455, 0.00351119, 0.00376494,\n",
       "       0.00403702, 0.00432876, 0.00464159, 0.00497702, 0.0053367 ,\n",
       "       0.00572237, 0.00613591, 0.00657933, 0.0070548 , 0.00756463,\n",
       "       0.008...\n",
       "       0.09326033, 0.1       , 0.10722672, 0.1149757 , 0.12328467,\n",
       "       0.13219411, 0.14174742, 0.15199111, 0.16297508, 0.17475284,\n",
       "       0.18738174, 0.2009233 , 0.21544347, 0.23101297, 0.24770764,\n",
       "       0.26560878, 0.28480359, 0.30538555, 0.32745492, 0.35111917,\n",
       "       0.37649358, 0.40370173, 0.43287613, 0.46415888, 0.49770236,\n",
       "       0.53366992, 0.57223677, 0.61359073, 0.65793322, 0.70548023,\n",
       "       0.75646333, 0.81113083, 0.869749  , 0.93260335, 1.        ]))"
      ]
     },
     "execution_count": 29,
     "metadata": {},
     "output_type": "execute_result"
    }
   ],
   "source": [
    "lasso_cv = LassoCV(alphas=np.logspace(-3, 0, 100))\n",
    "lasso_cv.fit(Z_train, y_train)"
   ]
  },
  {
   "cell_type": "code",
   "execution_count": 30,
   "id": "be3754a0-d80b-4f14-aaba-3a5535509dd9",
   "metadata": {},
   "outputs": [
    {
     "name": "stdout",
     "output_type": "stream",
     "text": [
      "0.9272727242578592\n",
      "0.9193040707535899\n"
     ]
    }
   ],
   "source": [
    "print(lasso_cv.score(Z_train, y_train))\n",
    "print(lasso_cv.score(Z_test, y_test))"
   ]
  },
  {
   "cell_type": "code",
   "execution_count": 31,
   "id": "b5a66b0e-d4d9-4f29-8c01-ce17b0c7c5ea",
   "metadata": {},
   "outputs": [],
   "source": [
    "preds = lasso_cv.predict(df_test_sc)\n",
    "df_test['SalePrice'] = preds\n",
    "la_submission = df_test[['Id', 'SalePrice']]\n",
    "la_submission.set_index('Id', inplace=True)\n",
    "la_submission.to_csv('../data/sub_3.csv')"
   ]
  },
  {
   "cell_type": "code",
   "execution_count": null,
   "id": "6c9b6110-f56c-499a-98d0-37895458e423",
   "metadata": {},
   "outputs": [],
   "source": []
  },
  {
   "cell_type": "code",
   "execution_count": null,
   "id": "62d15f2c-ae34-4a9b-aa4a-5f13cd1fe91f",
   "metadata": {},
   "outputs": [],
   "source": []
  }
 ],
 "metadata": {
  "kernelspec": {
   "display_name": "Python [conda env:dsi]",
   "language": "python",
   "name": "conda-env-dsi-py"
  },
  "language_info": {
   "codemirror_mode": {
    "name": "ipython",
    "version": 3
   },
   "file_extension": ".py",
   "mimetype": "text/x-python",
   "name": "python",
   "nbconvert_exporter": "python",
   "pygments_lexer": "ipython3",
   "version": "3.8.13"
  }
 },
 "nbformat": 4,
 "nbformat_minor": 5
}
